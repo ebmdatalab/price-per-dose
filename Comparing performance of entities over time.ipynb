{
 "cells": [
  {
   "cell_type": "code",
   "execution_count": 38,
   "metadata": {
    "collapsed": false
   },
   "outputs": [
    {
     "name": "stdout",
     "output_type": "stream",
     "text": [
      "Populating the interactive namespace from numpy and matplotlib\n"
     ]
    }
   ],
   "source": [
    "%pylab inline\n",
    "import pandas as pd\n",
    "import seaborn as sns\n",
    "import matplotlib.pyplot as plt\n",
    "\n",
    "\n",
    "month = '2016-09-01'\n",
    "sql = \"\"\"SELECT * FROM (\n",
    "  SELECT\n",
    "    month,\n",
    "    pct,\n",
    "    pmean,\n",
    "    p50th,\n",
    "    RANK() OVER (PARTITION BY month ORDER BY p50th ASC) AS p_rank\n",
    "  FROM (\n",
    "    SELECT\n",
    "      month,\n",
    "      pct,\n",
    "      MAX(p_count) AS pcount,\n",
    "      MAX(p_average) AS pmean,\n",
    "      MAX(p_50th) AS p50th\n",
    "    FROM (\n",
    "      SELECT\n",
    "        month,\n",
    "        pct,\n",
    "        COUNT(*) OVER (PARTITION BY month, pct ORDER BY ppq ASC) AS p_count,\n",
    "        AVG(ppq) OVER (PARTITION BY month, pct) AS p_average,\n",
    "        PERCENTILE_CONT(0.5) OVER (PARTITION BY month, pct ORDER BY ppq ASC) AS p_50th\n",
    "      FROM (\n",
    "        SELECT\n",
    "          month,\n",
    "          pct,\n",
    "          net_cost/quantity AS ppq\n",
    "        FROM\n",
    "          [ebmdatalab:hscic.prescribing] AS p\n",
    "        LEFT JOIN ebmdatalab.hscic.practices practices\n",
    "          ON p.practice = practices.code\n",
    "        WHERE\n",
    "          practices.setting = 4 AND\n",
    "          bnf_code LIKE '0601060D0%'))\n",
    "    GROUP BY\n",
    "      month,\n",
    "        pct) \n",
    "        \n",
    "ORDER BY\n",
    "  month, p_rank\n",
    ")\"\"\"\n",
    "df = pd.io.gbq.read_gbq(\n",
    "        sql, project_id=\"ebmdatalab\", verbose=False, dialect='legacy')"
   ]
  },
  {
   "cell_type": "code",
   "execution_count": 39,
   "metadata": {
    "collapsed": false
   },
   "outputs": [
    {
     "data": {
      "text/html": [
       "<div>\n",
       "<table border=\"1\" class=\"dataframe\">\n",
       "  <thead>\n",
       "    <tr style=\"text-align: right;\">\n",
       "      <th></th>\n",
       "      <th>month</th>\n",
       "      <th>pct</th>\n",
       "      <th>pmean</th>\n",
       "      <th>p50th</th>\n",
       "      <th>p_rank</th>\n",
       "    </tr>\n",
       "  </thead>\n",
       "  <tbody>\n",
       "    <tr>\n",
       "      <th>0</th>\n",
       "      <td>2010-08-01</td>\n",
       "      <td>5PG</td>\n",
       "      <td>0.294827</td>\n",
       "      <td>0.2946</td>\n",
       "      <td>1</td>\n",
       "    </tr>\n",
       "    <tr>\n",
       "      <th>1</th>\n",
       "      <td>2010-08-01</td>\n",
       "      <td>5C3</td>\n",
       "      <td>0.294724</td>\n",
       "      <td>0.2946</td>\n",
       "      <td>1</td>\n",
       "    </tr>\n",
       "    <tr>\n",
       "      <th>2</th>\n",
       "      <td>2010-08-01</td>\n",
       "      <td>5HX</td>\n",
       "      <td>0.294748</td>\n",
       "      <td>0.2946</td>\n",
       "      <td>1</td>\n",
       "    </tr>\n",
       "    <tr>\n",
       "      <th>3</th>\n",
       "      <td>2010-08-01</td>\n",
       "      <td>5EF</td>\n",
       "      <td>0.295261</td>\n",
       "      <td>0.2946</td>\n",
       "      <td>1</td>\n",
       "    </tr>\n",
       "    <tr>\n",
       "      <th>4</th>\n",
       "      <td>2010-08-01</td>\n",
       "      <td>5D9</td>\n",
       "      <td>0.294294</td>\n",
       "      <td>0.2946</td>\n",
       "      <td>1</td>\n",
       "    </tr>\n",
       "  </tbody>\n",
       "</table>\n",
       "</div>"
      ],
      "text/plain": [
       "       month  pct     pmean   p50th  p_rank\n",
       "0 2010-08-01  5PG  0.294827  0.2946       1\n",
       "1 2010-08-01  5C3  0.294724  0.2946       1\n",
       "2 2010-08-01  5HX  0.294748  0.2946       1\n",
       "3 2010-08-01  5EF  0.295261  0.2946       1\n",
       "4 2010-08-01  5D9  0.294294  0.2946       1"
      ]
     },
     "execution_count": 39,
     "metadata": {},
     "output_type": "execute_result"
    }
   ],
   "source": [
    "df.head()"
   ]
  },
  {
   "cell_type": "code",
   "execution_count": 50,
   "metadata": {
    "collapsed": false
   },
   "outputs": [
    {
     "data": {
      "text/html": [
       "<div>\n",
       "<table border=\"1\" class=\"dataframe\">\n",
       "  <thead>\n",
       "    <tr style=\"text-align: right;\">\n",
       "      <th></th>\n",
       "      <th>pct</th>\n",
       "      <th>pmean</th>\n",
       "      <th>p50th</th>\n",
       "      <th>p_rank</th>\n",
       "    </tr>\n",
       "    <tr>\n",
       "      <th>month</th>\n",
       "      <th></th>\n",
       "      <th></th>\n",
       "      <th></th>\n",
       "      <th></th>\n",
       "    </tr>\n",
       "  </thead>\n",
       "  <tbody>\n",
       "    <tr>\n",
       "      <th>2013-04-01</th>\n",
       "      <td>99F</td>\n",
       "      <td>0.284267</td>\n",
       "      <td>0.3040</td>\n",
       "      <td>4</td>\n",
       "    </tr>\n",
       "    <tr>\n",
       "      <th>2013-04-01</th>\n",
       "      <td>99P</td>\n",
       "      <td>0.300800</td>\n",
       "      <td>0.3054</td>\n",
       "      <td>29</td>\n",
       "    </tr>\n",
       "    <tr>\n",
       "      <th>2013-05-01</th>\n",
       "      <td>99F</td>\n",
       "      <td>0.282503</td>\n",
       "      <td>0.3022</td>\n",
       "      <td>3</td>\n",
       "    </tr>\n",
       "    <tr>\n",
       "      <th>2013-05-01</th>\n",
       "      <td>99P</td>\n",
       "      <td>0.289747</td>\n",
       "      <td>0.3054</td>\n",
       "      <td>32</td>\n",
       "    </tr>\n",
       "    <tr>\n",
       "      <th>2013-06-01</th>\n",
       "      <td>99F</td>\n",
       "      <td>0.282510</td>\n",
       "      <td>0.3022</td>\n",
       "      <td>4</td>\n",
       "    </tr>\n",
       "  </tbody>\n",
       "</table>\n",
       "</div>"
      ],
      "text/plain": [
       "            pct     pmean   p50th  p_rank\n",
       "month                                    \n",
       "2013-04-01  99F  0.284267  0.3040       4\n",
       "2013-04-01  99P  0.300800  0.3054      29\n",
       "2013-05-01  99F  0.282503  0.3022       3\n",
       "2013-05-01  99P  0.289747  0.3054      32\n",
       "2013-06-01  99F  0.282510  0.3022       4"
      ]
     },
     "execution_count": 50,
     "metadata": {},
     "output_type": "execute_result"
    }
   ],
   "source": [
    "interest = df[(df.pct == '99P') | (df.pct == '99F')]\n",
    "interest = interest.set_index('month')\n",
    "interest.head()"
   ]
  },
  {
   "cell_type": "code",
   "execution_count": 70,
   "metadata": {
    "collapsed": false
   },
   "outputs": [
    {
     "data": {
      "image/png": "[encoded data removed]",
      "text/plain": [
       "<matplotlib.figure.Figure at 0x7f5cdd238e10>"
      ]
     },
     "metadata": {},
     "output_type": "display_data"
    }
   ],
   "source": [
    "\n",
    "fig, ax = plt.subplots(figsize=(8,6))\n",
    "for label, sdf in interest.groupby('pct'):\n",
    "    sdf.p_rank.plot(ax=ax, label=label)\n",
    "plt.legend()\n",
    "plt.title(\"Ranking for median ppq\")\n",
    "ax.set_ylabel(\"Rank\")\n",
    "plt.show()\n",
    "\n",
    "\n",
    "#sns.tsplot(interest, time='month', value='p50th', condition='pct')"
   ]
  }
 ],
 "metadata": {
  "kernelspec": {
   "display_name": "Python 2",
   "language": "python",
   "name": "python2"
  },
  "language_info": {
   "codemirror_mode": {
    "name": "ipython",
    "version": 2
   },
   "file_extension": ".py",
   "mimetype": "text/x-python",
   "name": "python",
   "nbconvert_exporter": "python",
   "pygments_lexer": "ipython2",
   "version": "2.7.12"
  }
 },
 "nbformat": 4,
 "nbformat_minor": 0
}
