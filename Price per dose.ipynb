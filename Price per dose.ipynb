{
 "cells": [
  {
   "cell_type": "code",
   "execution_count": 157,
   "metadata": {
    "collapsed": false
   },
   "outputs": [
    {
     "name": "stdout",
     "output_type": "stream",
     "text": [
      "Populating the interactive namespace from numpy and matplotlib\n"
     ]
    },
    {
     "data": {
      "text/plain": [
       "<module 'lib.price_utils' from 'lib/price_utils.pyc'>"
      ]
     },
     "execution_count": 157,
     "metadata": {},
     "output_type": "execute_result"
    }
   ],
   "source": [
    "%pylab inline\n",
    "from lib import price_utils\n",
    "import pandas as pd\n",
    "import seaborn as sns\n",
    "import matplotlib.pyplot as plt\n",
    "reload(price_utils)\n"
   ]
  },
  {
   "cell_type": "markdown",
   "metadata": {},
   "source": [
    "# Top savings grouped by CCG\n",
    "\n",
    "The SQL for this is abstracted into the `price_utils` library, q.v. for details.\n",
    "\n",
    "We normalise prescriptions to their generic equivalent (where possible), and exclude specials.\n",
    "\n",
    "The following is sorted by possible savings at the top decile."
   ]
  },
  {
   "cell_type": "code",
   "execution_count": 3,
   "metadata": {
    "collapsed": false,
    "scrolled": true
   },
   "outputs": [],
   "source": [
    "top_1000_ccg = price_utils.get_savings(group_by='pct')"
   ]
  },
  {
   "cell_type": "code",
   "execution_count": 4,
   "metadata": {
    "collapsed": false
   },
   "outputs": [
    {
     "data": {
      "text/html": [
       "<div>\n",
       "<table border=\"1\" class=\"dataframe\">\n",
       "  <thead>\n",
       "    <tr style=\"text-align: right;\">\n",
       "      <th></th>\n",
       "      <th>bnf_presentation</th>\n",
       "      <th>savings_presentations_pct</th>\n",
       "      <th>savings_generic_presentation</th>\n",
       "      <th>savings_deciles_lowest_decile</th>\n",
       "      <th>savings_quantity</th>\n",
       "      <th>savings_price_per_dose</th>\n",
       "      <th>savings_possible_savings</th>\n",
       "    </tr>\n",
       "  </thead>\n",
       "  <tbody>\n",
       "    <tr>\n",
       "      <th>0</th>\n",
       "      <td>Fluticasone/Salmeterol_Inh 250/25mcg120D</td>\n",
       "      <td>13P</td>\n",
       "      <td>0302000N0AABGBG</td>\n",
       "      <td>41.345556</td>\n",
       "      <td>3151</td>\n",
       "      <td>54.829111</td>\n",
       "      <td>42486.684444</td>\n",
       "    </tr>\n",
       "    <tr>\n",
       "      <th>1</th>\n",
       "      <td>Glycopyrronium Brom_Inh Cap 55mcg + Dev</td>\n",
       "      <td>06M</td>\n",
       "      <td>0301020S0AAAAAA</td>\n",
       "      <td>0.849667</td>\n",
       "      <td>19853</td>\n",
       "      <td>2.442103</td>\n",
       "      <td>31614.637667</td>\n",
       "    </tr>\n",
       "    <tr>\n",
       "      <th>2</th>\n",
       "      <td>Fluticasone/Salmeterol_Inh 250/25mcg120D</td>\n",
       "      <td>01H</td>\n",
       "      <td>0302000N0AABGBG</td>\n",
       "      <td>41.345556</td>\n",
       "      <td>2474</td>\n",
       "      <td>53.795513</td>\n",
       "      <td>30801.195556</td>\n",
       "    </tr>\n",
       "    <tr>\n",
       "      <th>3</th>\n",
       "      <td>Glycopyrronium Brom_Inh Cap 55mcg + Dev</td>\n",
       "      <td>06L</td>\n",
       "      <td>0301020S0AAAAAA</td>\n",
       "      <td>0.849667</td>\n",
       "      <td>15511</td>\n",
       "      <td>2.794617</td>\n",
       "      <td>30168.130333</td>\n",
       "    </tr>\n",
       "    <tr>\n",
       "      <th>4</th>\n",
       "      <td>Budesonide/Formoterol Inh B/A 200/6(120D</td>\n",
       "      <td>99P</td>\n",
       "      <td>0302000K0AAAMAM</td>\n",
       "      <td>27.780000</td>\n",
       "      <td>4841</td>\n",
       "      <td>33.967649</td>\n",
       "      <td>29954.410000</td>\n",
       "    </tr>\n",
       "  </tbody>\n",
       "</table>\n",
       "</div>"
      ],
      "text/plain": [
       "                           bnf_presentation savings_presentations_pct  \\\n",
       "0  Fluticasone/Salmeterol_Inh 250/25mcg120D                       13P   \n",
       "1   Glycopyrronium Brom_Inh Cap 55mcg + Dev                       06M   \n",
       "2  Fluticasone/Salmeterol_Inh 250/25mcg120D                       01H   \n",
       "3   Glycopyrronium Brom_Inh Cap 55mcg + Dev                       06L   \n",
       "4  Budesonide/Formoterol Inh B/A 200/6(120D                       99P   \n",
       "\n",
       "  savings_generic_presentation  savings_deciles_lowest_decile  \\\n",
       "0              0302000N0AABGBG                      41.345556   \n",
       "1              0301020S0AAAAAA                       0.849667   \n",
       "2              0302000N0AABGBG                      41.345556   \n",
       "3              0301020S0AAAAAA                       0.849667   \n",
       "4              0302000K0AAAMAM                      27.780000   \n",
       "\n",
       "   savings_quantity  savings_price_per_dose  savings_possible_savings  \n",
       "0              3151               54.829111              42486.684444  \n",
       "1             19853                2.442103              31614.637667  \n",
       "2              2474               53.795513              30801.195556  \n",
       "3             15511                2.794617              30168.130333  \n",
       "4              4841               33.967649              29954.410000  "
      ]
     },
     "execution_count": 4,
     "metadata": {},
     "output_type": "execute_result"
    }
   ],
   "source": [
    "top_1000_ccg.head()"
   ]
  },
  {
   "cell_type": "markdown",
   "metadata": {},
   "source": [
    "## Grouped by CCG\n",
    "\n",
    "The same data as above, but grouped by CCG"
   ]
  },
  {
   "cell_type": "code",
   "execution_count": 5,
   "metadata": {
    "collapsed": false
   },
   "outputs": [
    {
     "data": {
      "text/html": [
       "<div>\n",
       "<table border=\"1\" class=\"dataframe\">\n",
       "  <thead>\n",
       "    <tr style=\"text-align: right;\">\n",
       "      <th></th>\n",
       "      <th>Count</th>\n",
       "      <th>Total savings</th>\n",
       "    </tr>\n",
       "    <tr>\n",
       "      <th>savings_presentations_pct</th>\n",
       "      <th></th>\n",
       "      <th></th>\n",
       "    </tr>\n",
       "  </thead>\n",
       "  <tbody>\n",
       "    <tr>\n",
       "      <th>11J</th>\n",
       "      <td>29</td>\n",
       "      <td>282893.573741</td>\n",
       "    </tr>\n",
       "    <tr>\n",
       "      <th>99P</th>\n",
       "      <td>20</td>\n",
       "      <td>238082.988693</td>\n",
       "    </tr>\n",
       "    <tr>\n",
       "      <th>13P</th>\n",
       "      <td>23</td>\n",
       "      <td>230662.363842</td>\n",
       "    </tr>\n",
       "    <tr>\n",
       "      <th>09G</th>\n",
       "      <td>23</td>\n",
       "      <td>189868.975814</td>\n",
       "    </tr>\n",
       "    <tr>\n",
       "      <th>11N</th>\n",
       "      <td>22</td>\n",
       "      <td>183597.504930</td>\n",
       "    </tr>\n",
       "  </tbody>\n",
       "</table>\n",
       "</div>"
      ],
      "text/plain": [
       "                           Count  Total savings\n",
       "savings_presentations_pct                      \n",
       "11J                           29  282893.573741\n",
       "99P                           20  238082.988693\n",
       "13P                           23  230662.363842\n",
       "09G                           23  189868.975814\n",
       "11N                           22  183597.504930"
      ]
     },
     "execution_count": 5,
     "metadata": {},
     "output_type": "execute_result"
    }
   ],
   "source": [
    "by_ccg = top_1000_ccg.groupby('savings_presentations_pct')['savings_possible_savings'] \\\n",
    "  .agg({'Count': 'count', 'Total savings': 'sum'}).sort_values('Total savings', ascending=False)\n",
    "by_ccg.head()"
   ]
  },
  {
   "cell_type": "code",
   "execution_count": 6,
   "metadata": {
    "collapsed": false
   },
   "outputs": [
    {
     "data": {
      "text/plain": [
       "7540482.0404408975"
      ]
     },
     "execution_count": 6,
     "metadata": {},
     "output_type": "execute_result"
    }
   ],
   "source": [
    "by_ccg['Total savings'].sum()"
   ]
  },
  {
   "cell_type": "markdown",
   "metadata": {},
   "source": [
    "## Just focusing on Rich's CCG"
   ]
  },
  {
   "cell_type": "code",
   "execution_count": 7,
   "metadata": {
    "collapsed": false
   },
   "outputs": [
    {
     "data": {
      "text/plain": [
       "Count                20.000000\n",
       "Total savings    238082.988693\n",
       "Name: 99P, dtype: float64"
      ]
     },
     "execution_count": 7,
     "metadata": {},
     "output_type": "execute_result"
    }
   ],
   "source": [
    "by_ccg.loc('savings_presentations_pct')['99P']"
   ]
  },
  {
   "cell_type": "code",
   "execution_count": 9,
   "metadata": {
    "collapsed": false
   },
   "outputs": [],
   "source": [
    "asd = price_utils.get_savings(for_entity='99P', group_by='pct')"
   ]
  },
  {
   "cell_type": "code",
   "execution_count": 10,
   "metadata": {
    "collapsed": false
   },
   "outputs": [
    {
     "data": {
      "text/html": [
       "<div>\n",
       "<table border=\"1\" class=\"dataframe\">\n",
       "  <thead>\n",
       "    <tr style=\"text-align: right;\">\n",
       "      <th></th>\n",
       "      <th>bnf_presentation</th>\n",
       "      <th>savings_presentations_pct</th>\n",
       "      <th>savings_generic_presentation</th>\n",
       "      <th>savings_deciles_lowest_decile</th>\n",
       "      <th>savings_quantity</th>\n",
       "      <th>savings_price_per_dose</th>\n",
       "      <th>savings_possible_savings</th>\n",
       "    </tr>\n",
       "  </thead>\n",
       "  <tbody>\n",
       "    <tr>\n",
       "      <th>0</th>\n",
       "      <td>Budesonide/Formoterol Inh B/A 200/6(120D</td>\n",
       "      <td>99P</td>\n",
       "      <td>0302000K0AAAMAM</td>\n",
       "      <td>27.780000</td>\n",
       "      <td>4841</td>\n",
       "      <td>33.967649</td>\n",
       "      <td>29954.410000</td>\n",
       "    </tr>\n",
       "    <tr>\n",
       "      <th>1</th>\n",
       "      <td>Fluticasone/Salmeterol_Inh 250/25mcg120D</td>\n",
       "      <td>99P</td>\n",
       "      <td>0302000N0AABGBG</td>\n",
       "      <td>41.345556</td>\n",
       "      <td>2301</td>\n",
       "      <td>54.317905</td>\n",
       "      <td>29849.376667</td>\n",
       "    </tr>\n",
       "    <tr>\n",
       "      <th>2</th>\n",
       "      <td>Fluticasone/Salmeterol_Inh 125/25mcg120D</td>\n",
       "      <td>99P</td>\n",
       "      <td>0302000N0AABFBF</td>\n",
       "      <td>24.330333</td>\n",
       "      <td>3012</td>\n",
       "      <td>32.087905</td>\n",
       "      <td>23365.806000</td>\n",
       "    </tr>\n",
       "    <tr>\n",
       "      <th>3</th>\n",
       "      <td>Budesonide/Formoterol Inh B/A 400/12(60D</td>\n",
       "      <td>99P</td>\n",
       "      <td>0302000K0AAAUAU</td>\n",
       "      <td>27.779231</td>\n",
       "      <td>3673</td>\n",
       "      <td>33.594503</td>\n",
       "      <td>21359.495385</td>\n",
       "    </tr>\n",
       "    <tr>\n",
       "      <th>4</th>\n",
       "      <td>Beclomet Diprop_Inha 100mcg (200 D) CFF</td>\n",
       "      <td>99P</td>\n",
       "      <td>0302000C0AABFBF</td>\n",
       "      <td>6.883333</td>\n",
       "      <td>5716</td>\n",
       "      <td>10.062565</td>\n",
       "      <td>18172.486667</td>\n",
       "    </tr>\n",
       "  </tbody>\n",
       "</table>\n",
       "</div>"
      ],
      "text/plain": [
       "                           bnf_presentation savings_presentations_pct  \\\n",
       "0  Budesonide/Formoterol Inh B/A 200/6(120D                       99P   \n",
       "1  Fluticasone/Salmeterol_Inh 250/25mcg120D                       99P   \n",
       "2  Fluticasone/Salmeterol_Inh 125/25mcg120D                       99P   \n",
       "3  Budesonide/Formoterol Inh B/A 400/12(60D                       99P   \n",
       "4   Beclomet Diprop_Inha 100mcg (200 D) CFF                       99P   \n",
       "\n",
       "  savings_generic_presentation  savings_deciles_lowest_decile  \\\n",
       "0              0302000K0AAAMAM                      27.780000   \n",
       "1              0302000N0AABGBG                      41.345556   \n",
       "2              0302000N0AABFBF                      24.330333   \n",
       "3              0302000K0AAAUAU                      27.779231   \n",
       "4              0302000C0AABFBF                       6.883333   \n",
       "\n",
       "   savings_quantity  savings_price_per_dose  savings_possible_savings  \n",
       "0              4841               33.967649              29954.410000  \n",
       "1              2301               54.317905              29849.376667  \n",
       "2              3012               32.087905              23365.806000  \n",
       "3              3673               33.594503              21359.495385  \n",
       "4              5716               10.062565              18172.486667  "
      ]
     },
     "execution_count": 10,
     "metadata": {},
     "output_type": "execute_result"
    }
   ],
   "source": [
    "asd.head()"
   ]
  },
  {
   "cell_type": "code",
   "execution_count": 209,
   "metadata": {
    "collapsed": true
   },
   "outputs": [],
   "source": [
    "# Save it to a cSV\n",
    "\n",
    "asd.to_csv(\"99P-full.csv\")"
   ]
  },
  {
   "cell_type": "markdown",
   "metadata": {},
   "source": [
    "# Same thing for practices"
   ]
  },
  {
   "cell_type": "code",
   "execution_count": 12,
   "metadata": {
    "collapsed": false
   },
   "outputs": [],
   "source": [
    "top_1000_practice = price_utils.get_savings(group_by='practice')"
   ]
  },
  {
   "cell_type": "code",
   "execution_count": 13,
   "metadata": {
    "collapsed": false
   },
   "outputs": [
    {
     "data": {
      "text/html": [
       "<div>\n",
       "<table border=\"1\" class=\"dataframe\">\n",
       "  <thead>\n",
       "    <tr style=\"text-align: right;\">\n",
       "      <th></th>\n",
       "      <th>bnf_presentation</th>\n",
       "      <th>savings_presentations_practice</th>\n",
       "      <th>savings_generic_presentation</th>\n",
       "      <th>savings_deciles_lowest_decile</th>\n",
       "      <th>savings_quantity</th>\n",
       "      <th>savings_price_per_dose</th>\n",
       "      <th>savings_possible_savings</th>\n",
       "    </tr>\n",
       "  </thead>\n",
       "  <tbody>\n",
       "    <tr>\n",
       "      <th>0</th>\n",
       "      <td>SMA Alfamino_Pdr</td>\n",
       "      <td>E87754</td>\n",
       "      <td>090900000BBKWA0</td>\n",
       "      <td>0.053280</td>\n",
       "      <td>20000</td>\n",
       "      <td>0.852444</td>\n",
       "      <td>15983.290000</td>\n",
       "    </tr>\n",
       "    <tr>\n",
       "      <th>1</th>\n",
       "      <td>Dalteparin Sod_Inj 25,000u/ml 0.6ml Pfs</td>\n",
       "      <td>J81033</td>\n",
       "      <td>0208010L0AAAHAH</td>\n",
       "      <td>7.846624</td>\n",
       "      <td>112</td>\n",
       "      <td>106.709375</td>\n",
       "      <td>11072.628108</td>\n",
       "    </tr>\n",
       "    <tr>\n",
       "      <th>2</th>\n",
       "      <td>Sod Phenylbut_Liq Spec 1.25g/5ml</td>\n",
       "      <td>J82034</td>\n",
       "      <td>0908010P0AAAEAE</td>\n",
       "      <td>0.914930</td>\n",
       "      <td>2500</td>\n",
       "      <td>5.162388</td>\n",
       "      <td>10618.645595</td>\n",
       "    </tr>\n",
       "    <tr>\n",
       "      <th>3</th>\n",
       "      <td>Dalteparin Sod_Inj 25,000u/ml 0.6ml Pfs</td>\n",
       "      <td>E82008</td>\n",
       "      <td>0208010L0AAAHAH</td>\n",
       "      <td>7.846624</td>\n",
       "      <td>100</td>\n",
       "      <td>106.708000</td>\n",
       "      <td>9886.137596</td>\n",
       "    </tr>\n",
       "    <tr>\n",
       "      <th>4</th>\n",
       "      <td>Influenza_Vac Inact 0.5ml Pfs</td>\n",
       "      <td>B84006</td>\n",
       "      <td>1404000H0AAAFAF</td>\n",
       "      <td>5.366000</td>\n",
       "      <td>2400</td>\n",
       "      <td>9.210100</td>\n",
       "      <td>9225.840000</td>\n",
       "    </tr>\n",
       "  </tbody>\n",
       "</table>\n",
       "</div>"
      ],
      "text/plain": [
       "                          bnf_presentation savings_presentations_practice  \\\n",
       "0                         SMA Alfamino_Pdr                         E87754   \n",
       "1  Dalteparin Sod_Inj 25,000u/ml 0.6ml Pfs                         J81033   \n",
       "2         Sod Phenylbut_Liq Spec 1.25g/5ml                         J82034   \n",
       "3  Dalteparin Sod_Inj 25,000u/ml 0.6ml Pfs                         E82008   \n",
       "4            Influenza_Vac Inact 0.5ml Pfs                         B84006   \n",
       "\n",
       "  savings_generic_presentation  savings_deciles_lowest_decile  \\\n",
       "0              090900000BBKWA0                       0.053280   \n",
       "1              0208010L0AAAHAH                       7.846624   \n",
       "2              0908010P0AAAEAE                       0.914930   \n",
       "3              0208010L0AAAHAH                       7.846624   \n",
       "4              1404000H0AAAFAF                       5.366000   \n",
       "\n",
       "   savings_quantity  savings_price_per_dose  savings_possible_savings  \n",
       "0             20000                0.852444              15983.290000  \n",
       "1               112              106.709375              11072.628108  \n",
       "2              2500                5.162388              10618.645595  \n",
       "3               100              106.708000               9886.137596  \n",
       "4              2400                9.210100               9225.840000  "
      ]
     },
     "execution_count": 13,
     "metadata": {},
     "output_type": "execute_result"
    }
   ],
   "source": [
    "top_1000_practice.head()"
   ]
  },
  {
   "cell_type": "code",
   "execution_count": 17,
   "metadata": {
    "collapsed": true
   },
   "outputs": [],
   "source": [
    "\n",
    "top_1000_practice.to_csv(\"practices.csv\")"
   ]
  },
  {
   "cell_type": "markdown",
   "metadata": {},
   "source": [
    "# Is the quantity column dirty?\n",
    "\n",
    "The \"quantity\" column is meant to indicate number of doses, but we think it is sometimes used to indicate number of packets.\n",
    "\n",
    "What can we do to validate and/or clean up this data?\n",
    "\n",
    "First, if we can assume the incorrect transcription is randomly distributed, we can attempt to detect such errors and then drop them from the dataset.\n",
    "\n",
    "* Where `items` is the same as `quantity`\n",
    "* Where `quantity` is one\n",
    "* Where the price-per-dose is a close multiple of a known price-per-packet"
   ]
  },
  {
   "cell_type": "markdown",
   "metadata": {},
   "source": [
    "## Can we work out pack size programmatically?\n",
    "\n",
    "We happen to know that the pack size for Glycopyrronium is 30 - can we use this knowledge to validate an approach for guessing pack sizes?\n",
    "\n",
    "This approach computes the factors of each quantity and then counts the occurence of each factor."
   ]
  },
  {
   "cell_type": "code",
   "execution_count": 158,
   "metadata": {
    "collapsed": false
   },
   "outputs": [],
   "source": [
    "\n",
    "sql = '''\n",
    "CREATE TEMPORARY FUNCTION\n",
    "  factors(num INT64)\n",
    "  RETURNS ARRAY<INT64>\n",
    "  LANGUAGE js AS \"\"\"\n",
    " var n_factors = [], i;\n",
    " var max_factor = 5000;\n",
    " if (num === 1) {\n",
    "   n_factors.push(1); // we want to count instances where it's exactly 1\n",
    " }\n",
    " for (i = 1; i <= Math.min(Math.floor(Math.sqrt(num)), Math.floor(Math.sqrt(max_factor))); i += 1)\n",
    "\n",
    "  if (num % i === 0) {\n",
    "    n_factors.push(i);\n",
    "    if (num / i !== i && num / i <= max_factor)\n",
    "      n_factors.push(num / i);\n",
    " }\n",
    " return n_factors;\n",
    "\"\"\";\n",
    "SELECT\n",
    "  factor\n",
    "FROM\n",
    "  ebmdatalab.hscic.prescribing,\n",
    "  UNNEST(factors(quantity)) AS factor\n",
    "WHERE\n",
    "  bnf_code = '0301020S0AAAAAA'\n",
    "  AND month = TIMESTAMP('2016-08-01')\n",
    "'''\n",
    "df = pd.io.gbq.read_gbq(sql, project_id=\"ebmdatalab\", verbose=False, dialect='standard')\n",
    "\n"
   ]
  },
  {
   "cell_type": "markdown",
   "metadata": {
    "collapsed": false
   },
   "source": [
    "You can definitely infer the pack size in this example, by factorising each quantity and then sorting by numbers of factors; the sudden drop at 30 indicates the max pack size:"
   ]
  },
  {
   "cell_type": "code",
   "execution_count": 159,
   "metadata": {
    "collapsed": false
   },
   "outputs": [
    {
     "data": {
      "text/plain": [
       "factor\n",
       "1     2136\n",
       "2     1839\n",
       "3     1769\n",
       "5     1733\n",
       "6     1725\n",
       "10    1719\n",
       "15    1717\n",
       "30    1717\n",
       "4      701\n",
       "12     645\n",
       "Name: factor, dtype: int64"
      ]
     },
     "execution_count": 159,
     "metadata": {},
     "output_type": "execute_result"
    }
   ],
   "source": [
    "df.groupby('factor')['factor'].count().sort_values(ascending=False).head(10)"
   ]
  },
  {
   "cell_type": "markdown",
   "metadata": {},
   "source": [
    "# Comparing the price-per-pill at each quantity level\n",
    "\n",
    "The following query (one month of Glycopyrronium as per the above examples) adds a new element to the price per dose calculation. \n",
    "\n",
    "We calculate a \"broken amount\", which is the count of pills/doses in excess of a whole pack size.\n",
    "\n",
    "We calculate an \"optimum price per dose\" which is based on the average price-per-dose at whole pack sizes, and we work out what we would *expect* the total cost to be, based on this per-unit price.\n",
    "\n"
   ]
  },
  {
   "cell_type": "code",
   "execution_count": 261,
   "metadata": {
    "collapsed": false
   },
   "outputs": [],
   "source": [
    "sql = \"\"\"\n",
    "WITH\n",
    "  prescribing AS (\n",
    "  SELECT\n",
    "    *\n",
    "  FROM\n",
    "    ebmdatalab.hscic.prescribing\n",
    "  WHERE\n",
    "    bnf_code = '0301020S0AAAAAA'\n",
    "    AND month = TIMESTAMP('2016-08-01'))\n",
    "SELECT\n",
    "  quantity,\n",
    "  items,\n",
    "  (quantity * optimum_price_per_dose) AS should_have_paid,\n",
    "  actual_cost AS actually_paid,\n",
    "  actual_cost - (quantity * optimum_price_per_dose) AS premium_paid,\n",
    "  MOD(quantity, 30) AS broken_amount,\n",
    "  IF (MOD(quantity, 30) > 0,\n",
    "    IF(actual_cost > quantity * optimum_price_per_dose,\n",
    "      IEEE_DIVIDE(actual_cost - (quantity * optimum_price_per_dose), MOD(quantity, 30)),\n",
    "      0),\n",
    "    0) AS premium_per_broken,\n",
    "  pct,\n",
    "  practice,\n",
    "  optimum_price_per_dose,\n",
    "  actual_cost/quantity AS price_per_dose\n",
    "FROM\n",
    "  prescribing,\n",
    "  (\n",
    "  SELECT\n",
    "    AVG(quantity/actual_cost) AS optimum_price_per_dose\n",
    "  FROM\n",
    "    prescribing\n",
    "  WHERE\n",
    "    MOD(quantity, 30) = 0)\n",
    "\"\"\"\n",
    "df = pd.io.gbq.read_gbq(sql, project_id=\"ebmdatalab\", verbose=False, dialect='standard')"
   ]
  },
  {
   "cell_type": "code",
   "execution_count": 262,
   "metadata": {
    "collapsed": false
   },
   "outputs": [
    {
     "data": {
      "text/html": [
       "<div>\n",
       "<table border=\"1\" class=\"dataframe\">\n",
       "  <thead>\n",
       "    <tr style=\"text-align: right;\">\n",
       "      <th></th>\n",
       "      <th>quantity</th>\n",
       "      <th>items</th>\n",
       "      <th>should_have_paid</th>\n",
       "      <th>actually_paid</th>\n",
       "      <th>premium_paid</th>\n",
       "      <th>broken_amount</th>\n",
       "      <th>premium_per_broken</th>\n",
       "      <th>pct</th>\n",
       "      <th>practice</th>\n",
       "      <th>optimum_price_per_dose</th>\n",
       "      <th>price_per_dose</th>\n",
       "    </tr>\n",
       "  </thead>\n",
       "  <tbody>\n",
       "    <tr>\n",
       "      <th>0</th>\n",
       "      <td>30</td>\n",
       "      <td>1</td>\n",
       "      <td>35.263422</td>\n",
       "      <td>25.49</td>\n",
       "      <td>-9.773422</td>\n",
       "      <td>0</td>\n",
       "      <td>0.0</td>\n",
       "      <td>06T</td>\n",
       "      <td>Y00484</td>\n",
       "      <td>1.175447</td>\n",
       "      <td>0.849667</td>\n",
       "    </tr>\n",
       "    <tr>\n",
       "      <th>1</th>\n",
       "      <td>91</td>\n",
       "      <td>4</td>\n",
       "      <td>106.965712</td>\n",
       "      <td>101.97</td>\n",
       "      <td>-4.995712</td>\n",
       "      <td>1</td>\n",
       "      <td>0.0</td>\n",
       "      <td>11X</td>\n",
       "      <td>L85015</td>\n",
       "      <td>1.175447</td>\n",
       "      <td>1.120549</td>\n",
       "    </tr>\n",
       "    <tr>\n",
       "      <th>2</th>\n",
       "      <td>90</td>\n",
       "      <td>3</td>\n",
       "      <td>105.790265</td>\n",
       "      <td>76.48</td>\n",
       "      <td>-29.310265</td>\n",
       "      <td>0</td>\n",
       "      <td>0.0</td>\n",
       "      <td>05H</td>\n",
       "      <td>M84011</td>\n",
       "      <td>1.175447</td>\n",
       "      <td>0.849778</td>\n",
       "    </tr>\n",
       "    <tr>\n",
       "      <th>3</th>\n",
       "      <td>90</td>\n",
       "      <td>3</td>\n",
       "      <td>105.790265</td>\n",
       "      <td>76.47</td>\n",
       "      <td>-29.320265</td>\n",
       "      <td>0</td>\n",
       "      <td>0.0</td>\n",
       "      <td>04Y</td>\n",
       "      <td>Y02354</td>\n",
       "      <td>1.175447</td>\n",
       "      <td>0.849667</td>\n",
       "    </tr>\n",
       "    <tr>\n",
       "      <th>4</th>\n",
       "      <td>30</td>\n",
       "      <td>1</td>\n",
       "      <td>35.263422</td>\n",
       "      <td>25.49</td>\n",
       "      <td>-9.773422</td>\n",
       "      <td>0</td>\n",
       "      <td>0.0</td>\n",
       "      <td>00J</td>\n",
       "      <td>A83029</td>\n",
       "      <td>1.175447</td>\n",
       "      <td>0.849667</td>\n",
       "    </tr>\n",
       "  </tbody>\n",
       "</table>\n",
       "</div>"
      ],
      "text/plain": [
       "   quantity  items  should_have_paid  actually_paid  premium_paid  \\\n",
       "0        30      1         35.263422          25.49     -9.773422   \n",
       "1        91      4        106.965712         101.97     -4.995712   \n",
       "2        90      3        105.790265          76.48    -29.310265   \n",
       "3        90      3        105.790265          76.47    -29.320265   \n",
       "4        30      1         35.263422          25.49     -9.773422   \n",
       "\n",
       "   broken_amount  premium_per_broken  pct practice  optimum_price_per_dose  \\\n",
       "0              0                 0.0  06T   Y00484                1.175447   \n",
       "1              1                 0.0  11X   L85015                1.175447   \n",
       "2              0                 0.0  05H   M84011                1.175447   \n",
       "3              0                 0.0  04Y   Y02354                1.175447   \n",
       "4              0                 0.0  00J   A83029                1.175447   \n",
       "\n",
       "   price_per_dose  \n",
       "0        0.849667  \n",
       "1        1.120549  \n",
       "2        0.849778  \n",
       "3        0.849667  \n",
       "4        0.849667  "
      ]
     },
     "execution_count": 262,
     "metadata": {},
     "output_type": "execute_result"
    }
   ],
   "source": [
    "df.head()"
   ]
  },
  {
   "cell_type": "code",
   "execution_count": 263,
   "metadata": {
    "collapsed": false
   },
   "outputs": [],
   "source": [
    "#all_possible = pd.Series(range(0, df['quantity'].max() + 1)).rename('quantity')\n",
    "#missing = all_possible[~all_possible.isin(df['quantity'])].to_frame()"
   ]
  },
  {
   "cell_type": "markdown",
   "metadata": {},
   "source": [
    "If we just plot price per dose against quantity, we see the huge outliers at the £25 per dose mark where quantity is near 1.  £25 is roughly the price of a pack of 30 doses, which leads us to assume an error in the data.\n",
    "\n",
    "We can also see a clear trend towards the price per dose varying less with greater quantities, which is not surprising."
   ]
  },
  {
   "cell_type": "code",
   "execution_count": 264,
   "metadata": {
    "collapsed": false
   },
   "outputs": [
    {
     "data": {
      "image/png": "[encoded data removed]",
      "text/plain": [
       "<matplotlib.figure.Figure at 0x7f77dc25fd90>"
      ]
     },
     "metadata": {},
     "output_type": "display_data"
    }
   ],
   "source": [
    "g = sns.jointplot(\"quantity\", \"price_per_dose\", data=df2, kind=\"scatter\")\n",
    "import matplotlib.ticker as ticker\n",
    "g.ax_joint.xaxis.set_major_locator(ticker.MultipleLocator(900))\n",
    "g.fig.set_figwidth(14)\n",
    "g.fig.set_figheight(8)"
   ]
  },
  {
   "cell_type": "code",
   "execution_count": 265,
   "metadata": {
    "collapsed": false
   },
   "outputs": [
    {
     "data": {
      "text/html": [
       "<div>\n",
       "<table border=\"1\" class=\"dataframe\">\n",
       "  <thead>\n",
       "    <tr style=\"text-align: right;\">\n",
       "      <th></th>\n",
       "      <th>quantity</th>\n",
       "      <th>items</th>\n",
       "      <th>should_have_paid</th>\n",
       "      <th>actually_paid</th>\n",
       "      <th>premium_paid</th>\n",
       "      <th>broken_amount</th>\n",
       "      <th>premium_per_broken</th>\n",
       "      <th>pct</th>\n",
       "      <th>practice</th>\n",
       "      <th>optimum_price_per_dose</th>\n",
       "      <th>price_per_dose</th>\n",
       "    </tr>\n",
       "  </thead>\n",
       "  <tbody>\n",
       "    <tr>\n",
       "      <th>55</th>\n",
       "      <td>1</td>\n",
       "      <td>1</td>\n",
       "      <td>1.175447</td>\n",
       "      <td>25.49</td>\n",
       "      <td>24.314553</td>\n",
       "      <td>1</td>\n",
       "      <td>24.314553</td>\n",
       "      <td>07T</td>\n",
       "      <td>F84021</td>\n",
       "      <td>1.175447</td>\n",
       "      <td>25.49</td>\n",
       "    </tr>\n",
       "    <tr>\n",
       "      <th>154</th>\n",
       "      <td>1</td>\n",
       "      <td>1</td>\n",
       "      <td>1.175447</td>\n",
       "      <td>25.49</td>\n",
       "      <td>24.314553</td>\n",
       "      <td>1</td>\n",
       "      <td>24.314553</td>\n",
       "      <td>00Y</td>\n",
       "      <td>P85601</td>\n",
       "      <td>1.175447</td>\n",
       "      <td>25.49</td>\n",
       "    </tr>\n",
       "    <tr>\n",
       "      <th>237</th>\n",
       "      <td>1</td>\n",
       "      <td>1</td>\n",
       "      <td>1.175447</td>\n",
       "      <td>25.49</td>\n",
       "      <td>24.314553</td>\n",
       "      <td>1</td>\n",
       "      <td>24.314553</td>\n",
       "      <td>05P</td>\n",
       "      <td>Y03965</td>\n",
       "      <td>1.175447</td>\n",
       "      <td>25.49</td>\n",
       "    </tr>\n",
       "    <tr>\n",
       "      <th>421</th>\n",
       "      <td>1</td>\n",
       "      <td>1</td>\n",
       "      <td>1.175447</td>\n",
       "      <td>25.49</td>\n",
       "      <td>24.314553</td>\n",
       "      <td>1</td>\n",
       "      <td>24.314553</td>\n",
       "      <td>05Y</td>\n",
       "      <td>M91020</td>\n",
       "      <td>1.175447</td>\n",
       "      <td>25.49</td>\n",
       "    </tr>\n",
       "    <tr>\n",
       "      <th>472</th>\n",
       "      <td>1</td>\n",
       "      <td>1</td>\n",
       "      <td>1.175447</td>\n",
       "      <td>25.49</td>\n",
       "      <td>24.314553</td>\n",
       "      <td>1</td>\n",
       "      <td>24.314553</td>\n",
       "      <td>06N</td>\n",
       "      <td>E82045</td>\n",
       "      <td>1.175447</td>\n",
       "      <td>25.49</td>\n",
       "    </tr>\n",
       "  </tbody>\n",
       "</table>\n",
       "</div>"
      ],
      "text/plain": [
       "     quantity  items  should_have_paid  actually_paid  premium_paid  \\\n",
       "55          1      1          1.175447          25.49     24.314553   \n",
       "154         1      1          1.175447          25.49     24.314553   \n",
       "237         1      1          1.175447          25.49     24.314553   \n",
       "421         1      1          1.175447          25.49     24.314553   \n",
       "472         1      1          1.175447          25.49     24.314553   \n",
       "\n",
       "     broken_amount  premium_per_broken  pct practice  optimum_price_per_dose  \\\n",
       "55               1           24.314553  07T   F84021                1.175447   \n",
       "154              1           24.314553  00Y   P85601                1.175447   \n",
       "237              1           24.314553  05P   Y03965                1.175447   \n",
       "421              1           24.314553  05Y   M91020                1.175447   \n",
       "472              1           24.314553  06N   E82045                1.175447   \n",
       "\n",
       "     price_per_dose  \n",
       "55            25.49  \n",
       "154           25.49  \n",
       "237           25.49  \n",
       "421           25.49  \n",
       "472           25.49  "
      ]
     },
     "execution_count": 265,
     "metadata": {},
     "output_type": "execute_result"
    }
   ],
   "source": [
    "df[df['price_per_dose'] > 20].head()"
   ]
  },
  {
   "cell_type": "markdown",
   "metadata": {},
   "source": [
    "What if we plot the *total premium paid* against quantity over what would be expected (in these calculations, this means at a per-unit cost of £1.17)?\n",
    "\n",
    "We see a clear linear increase in cost savings across quantity. This is to be expected, as the prices paid to dispensers is discounted at a constant rate proportional to the quantity, on the assumption that they are able to secure bulk savings."
   ]
  },
  {
   "cell_type": "code",
   "execution_count": 266,
   "metadata": {
    "collapsed": false
   },
   "outputs": [
    {
     "data": {
      "image/png": "[encoded data removed]",
      "text/plain": [
       "<matplotlib.figure.Figure at 0x7f77dcaf6a50>"
      ]
     },
     "metadata": {},
     "output_type": "display_data"
    }
   ],
   "source": [
    "g = sns.jointplot(\"quantity\", \"premium_paid\", data=df2, kind=\"reg\")\n",
    "import matplotlib.ticker as ticker\n",
    "g.ax_joint.xaxis.set_major_locator(ticker.MultipleLocator(900))\n",
    "g.fig.set_figwidth(14)\n",
    "g.fig.set_figheight(8)"
   ]
  },
  {
   "cell_type": "markdown",
   "metadata": {},
   "source": [
    "It gets more interesting if we zoom in, so that we can see at the scale of a typical packet size.  Here we can see that the premium paid shoots up very fast at small increments above the packet size. We also see that all quantities that don't match the packet size are just slightly larger than the packet size -- not less. \n",
    "\n",
    "Similarly, we can see a series of linear progressions above and parallel to the main regression line, which tells us that the excess cost is constant at each level of excess dose above the standard packet size."
   ]
  },
  {
   "cell_type": "code",
   "execution_count": 267,
   "metadata": {
    "collapsed": false,
    "scrolled": true
   },
   "outputs": [
    {
     "data": {
      "image/png": "[encoded data removed]",
      "text/plain": [
       "<matplotlib.figure.Figure at 0x7f77dba2bed0>"
      ]
     },
     "metadata": {},
     "output_type": "display_data"
    }
   ],
   "source": [
    "g = sns.jointplot(\"quantity\", \"premium_paid\", data=df2[df2['quantity'] < 260], kind=\"reg\")\n",
    "import matplotlib.ticker as ticker\n",
    "g.ax_joint.xaxis.set_major_locator(ticker.MultipleLocator(30))\n",
    "g.fig.set_figwidth(14)\n",
    "g.fig.set_figheight(8)"
   ]
  },
  {
   "cell_type": "markdown",
   "metadata": {},
   "source": [
    "It looks to me like items where the quantity is 1 are not transcription errors, but where the quantity really is one, and a whole pack has been charged for.\n",
    "\n",
    "We can attempt to verify this by looking only at \"broken packs\", and dividing the premium paid by the possible number of broken packs (estimated by taking the remainder when the quantity is divided by 30, and only looking where the total quantity is less than 40).\n",
    "\n",
    "The first plot shows very tight clustering around £24 excess for quantities of less than 30:"
   ]
  },
  {
   "cell_type": "code",
   "execution_count": 268,
   "metadata": {
    "collapsed": false
   },
   "outputs": [
    {
     "data": {
      "image/png": "[encoded data removed]",
      "text/plain": [
       "<matplotlib.figure.Figure at 0x7f77c5c15850>"
      ]
     },
     "metadata": {},
     "output_type": "display_data"
    }
   ],
   "source": [
    "\n",
    "\n",
    "g = sns.distplot(\n",
    "    df[(df['premium_per_broken'] > 0) & (df['quantity'] > 0) & (df['quantity'] < 30)]['premium_per_broken'], \n",
    "    bins=60, kde=False, vertical=True)\n"
   ]
  },
  {
   "cell_type": "markdown",
   "metadata": {},
   "source": [
    "At quantities of between 30 and 60, the excess paid is almost always just less than £15."
   ]
  },
  {
   "cell_type": "code",
   "execution_count": 269,
   "metadata": {
    "collapsed": false
   },
   "outputs": [
    {
     "data": {
      "image/png": "[encoded data removed]",
      "text/plain": [
       "<matplotlib.figure.Figure at 0x7f77c5bf1a10>"
      ]
     },
     "metadata": {},
     "output_type": "display_data"
    }
   ],
   "source": [
    "\n",
    "g = sns.distplot(\n",
    "    df[(df['premium_per_broken'] > 0) & (df['quantity'] > 30) & (df['quantity'] < 60)]['premium_per_broken'], \n",
    "    bins=60, kde=False, vertical=True)"
   ]
  }
 ],
 "metadata": {
  "kernelspec": {
   "display_name": "Python 2",
   "language": "python",
   "name": "python2"
  },
  "language_info": {
   "codemirror_mode": {
    "name": "ipython",
    "version": 2
   },
   "file_extension": ".py",
   "mimetype": "text/x-python",
   "name": "python",
   "nbconvert_exporter": "python",
   "pygments_lexer": "ipython2",
   "version": "2.7.12"
  }
 },
 "nbformat": 4,
 "nbformat_minor": 0
}
