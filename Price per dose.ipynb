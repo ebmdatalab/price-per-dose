{
 "cells": [
  {
   "cell_type": "code",
   "execution_count": 17,
   "metadata": {
    "autoscroll": "json-false",
    "collapsed": false,
    "ein.tags": [
     "worksheet-0"
    ],
    "slideshow": {
     "slide_type": "-"
    }
   },
   "outputs": [
    {
     "name": "stdout",
     "output_type": "stream",
     "text": [
      "Populating the interactive namespace from numpy and matplotlib\n"
     ]
    }
   ],
   "source": [
    "%pylab inline\n",
    "from lib import price_utils\n",
    "import pandas as pd\n",
    "import seaborn as sns\n",
    "import matplotlib.pyplot as plt\n",
    "reload(price_utils)\n",
    "pd.options.display.float_format = '{:,.2f}'.format\n",
    "\n",
    "\n",
    "month = '2016-09-01'"
   ]
  },
  {
   "cell_type": "markdown",
   "metadata": {
    "ein.tags": [
     "worksheet-0"
    ],
    "slideshow": {
     "slide_type": "-"
    }
   },
   "source": [
    "# Top ccg-presentation savings\n",
    "\n",
    "The SQL for this is abstracted into the `price_utils` library, q.v. for details.\n",
    "\n",
    "We normalise prescriptions to their generic equivalent.  See [the README](https://github.com/ebmdatalab/price-per-dose/blob/master/README.md) for details.\n",
    "\n",
    "The following is sorted by possible savings at the top decile. It tells us that CCG 13T  had the single biggest saving opportunity: to save £33,600 on its purchase of 8258 flu vaccines. It paid £9.92 per dose, when the lowest decile paid £5.85 per dose.\n",
    "\n",
    "It is limited to the top 1000 CCG-presentation tuples."
   ]
  },
  {
   "cell_type": "code",
   "execution_count": 2,
   "metadata": {
    "autoscroll": "json-false",
    "collapsed": false,
    "ein.tags": [
     "worksheet-0"
    ],
    "slideshow": {
     "slide_type": "-"
    }
   },
   "outputs": [],
   "source": [
    "top_1000_ccg = price_utils.get_savings(group_by='pct', month=month, limit=1000, sql_only=False)"
   ]
  },
  {
   "cell_type": "code",
   "execution_count": 18,
   "metadata": {
    "autoscroll": "json-false",
    "collapsed": false,
    "ein.tags": [
     "worksheet-0"
    ],
    "slideshow": {
     "slide_type": "-"
    }
   },
   "outputs": [
    {
     "data": {
      "text/html": [
       "<div>\n",
       "<table border=\"1\" class=\"dataframe\">\n",
       "  <thead>\n",
       "    <tr style=\"text-align: right;\">\n",
       "      <th></th>\n",
       "      <th>bnf_presentation</th>\n",
       "      <th>bnf_chemical</th>\n",
       "      <th>pct</th>\n",
       "      <th>category</th>\n",
       "      <th>avg_brand_count_per_practice</th>\n",
       "      <th>lowest_decile</th>\n",
       "      <th>quantity</th>\n",
       "      <th>price_per_dose</th>\n",
       "      <th>possible_savings</th>\n",
       "      <th>formulation_swap</th>\n",
       "      <th>num_pack_sizes</th>\n",
       "      <th>flag_imported</th>\n",
       "      <th>flag_broken_bulk</th>\n",
       "      <th>flag_non_bioequivalence</th>\n",
       "      <th>flag_special_containers</th>\n",
       "    </tr>\n",
       "    <tr>\n",
       "      <th>bnf_code</th>\n",
       "      <th></th>\n",
       "      <th></th>\n",
       "      <th></th>\n",
       "      <th></th>\n",
       "      <th></th>\n",
       "      <th></th>\n",
       "      <th></th>\n",
       "      <th></th>\n",
       "      <th></th>\n",
       "      <th></th>\n",
       "      <th></th>\n",
       "      <th></th>\n",
       "      <th></th>\n",
       "      <th></th>\n",
       "      <th></th>\n",
       "    </tr>\n",
       "  </thead>\n",
       "  <tbody>\n",
       "    <tr>\n",
       "      <th>1404000H0AAAFAF</th>\n",
       "      <td>Influenza_Vac Inact 0.5ml Pfs</td>\n",
       "      <td>Influenza</td>\n",
       "      <td>13T</td>\n",
       "      <td>NP8</td>\n",
       "      <td>1.14</td>\n",
       "      <td>5.92</td>\n",
       "      <td>25993</td>\n",
       "      <td>7.57</td>\n",
       "      <td>47,185.65</td>\n",
       "      <td>NaN</td>\n",
       "      <td>3.00</td>\n",
       "      <td>nan</td>\n",
       "      <td>None</td>\n",
       "      <td>nan</td>\n",
       "      <td>1.00</td>\n",
       "    </tr>\n",
       "    <tr>\n",
       "      <th>1404000H0AAAFAF</th>\n",
       "      <td>Influenza_Vac Inact 0.5ml Pfs</td>\n",
       "      <td>Influenza</td>\n",
       "      <td>01H</td>\n",
       "      <td>NP8</td>\n",
       "      <td>1.10</td>\n",
       "      <td>5.92</td>\n",
       "      <td>35744</td>\n",
       "      <td>6.58</td>\n",
       "      <td>26,395.80</td>\n",
       "      <td>NaN</td>\n",
       "      <td>3.00</td>\n",
       "      <td>nan</td>\n",
       "      <td>None</td>\n",
       "      <td>nan</td>\n",
       "      <td>1.00</td>\n",
       "    </tr>\n",
       "    <tr>\n",
       "      <th>0403040W0AAAEAE</th>\n",
       "      <td>Venlafaxine_Cap 150mg M/R</td>\n",
       "      <td>Venlafaxine</td>\n",
       "      <td>11J</td>\n",
       "      <td>C</td>\n",
       "      <td>1.21</td>\n",
       "      <td>0.38</td>\n",
       "      <td>43145</td>\n",
       "      <td>0.98</td>\n",
       "      <td>24,669.05</td>\n",
       "      <td>Cap  / Tab</td>\n",
       "      <td>3.00</td>\n",
       "      <td>nan</td>\n",
       "      <td>None</td>\n",
       "      <td>nan</td>\n",
       "      <td>nan</td>\n",
       "    </tr>\n",
       "    <tr>\n",
       "      <th>1404000H0AAAFAF</th>\n",
       "      <td>Influenza_Vac Inact 0.5ml Pfs</td>\n",
       "      <td>Influenza</td>\n",
       "      <td>06N</td>\n",
       "      <td>NP8</td>\n",
       "      <td>1.08</td>\n",
       "      <td>5.92</td>\n",
       "      <td>21795</td>\n",
       "      <td>6.82</td>\n",
       "      <td>23,602.99</td>\n",
       "      <td>NaN</td>\n",
       "      <td>3.00</td>\n",
       "      <td>nan</td>\n",
       "      <td>None</td>\n",
       "      <td>nan</td>\n",
       "      <td>1.00</td>\n",
       "    </tr>\n",
       "    <tr>\n",
       "      <th>0601060D0AAA0A0</th>\n",
       "      <td>Glucose Blood Testing Reagents</td>\n",
       "      <td>Glucose Blood Testing Reagents</td>\n",
       "      <td>11X</td>\n",
       "      <td>NP8</td>\n",
       "      <td>14.05</td>\n",
       "      <td>0.25</td>\n",
       "      <td>594981</td>\n",
       "      <td>0.29</td>\n",
       "      <td>23,364.66</td>\n",
       "      <td>NaN</td>\n",
       "      <td>nan</td>\n",
       "      <td>nan</td>\n",
       "      <td>None</td>\n",
       "      <td>nan</td>\n",
       "      <td>nan</td>\n",
       "    </tr>\n",
       "  </tbody>\n",
       "</table>\n",
       "</div>"
      ],
      "text/plain": [
       "                               bnf_presentation  \\\n",
       "bnf_code                                          \n",
       "1404000H0AAAFAF   Influenza_Vac Inact 0.5ml Pfs   \n",
       "1404000H0AAAFAF   Influenza_Vac Inact 0.5ml Pfs   \n",
       "0403040W0AAAEAE       Venlafaxine_Cap 150mg M/R   \n",
       "1404000H0AAAFAF   Influenza_Vac Inact 0.5ml Pfs   \n",
       "0601060D0AAA0A0  Glucose Blood Testing Reagents   \n",
       "\n",
       "                                   bnf_chemical  pct category  \\\n",
       "bnf_code                                                        \n",
       "1404000H0AAAFAF                       Influenza  13T      NP8   \n",
       "1404000H0AAAFAF                       Influenza  01H      NP8   \n",
       "0403040W0AAAEAE                     Venlafaxine  11J        C   \n",
       "1404000H0AAAFAF                       Influenza  06N      NP8   \n",
       "0601060D0AAA0A0  Glucose Blood Testing Reagents  11X      NP8   \n",
       "\n",
       "                 avg_brand_count_per_practice  lowest_decile  quantity  \\\n",
       "bnf_code                                                                 \n",
       "1404000H0AAAFAF                          1.14           5.92     25993   \n",
       "1404000H0AAAFAF                          1.10           5.92     35744   \n",
       "0403040W0AAAEAE                          1.21           0.38     43145   \n",
       "1404000H0AAAFAF                          1.08           5.92     21795   \n",
       "0601060D0AAA0A0                         14.05           0.25    594981   \n",
       "\n",
       "                 price_per_dose  possible_savings formulation_swap  \\\n",
       "bnf_code                                                             \n",
       "1404000H0AAAFAF            7.57         47,185.65              NaN   \n",
       "1404000H0AAAFAF            6.58         26,395.80              NaN   \n",
       "0403040W0AAAEAE            0.98         24,669.05      Cap  / Tab    \n",
       "1404000H0AAAFAF            6.82         23,602.99              NaN   \n",
       "0601060D0AAA0A0            0.29         23,364.66              NaN   \n",
       "\n",
       "                 num_pack_sizes  flag_imported flag_broken_bulk  \\\n",
       "bnf_code                                                          \n",
       "1404000H0AAAFAF            3.00            nan             None   \n",
       "1404000H0AAAFAF            3.00            nan             None   \n",
       "0403040W0AAAEAE            3.00            nan             None   \n",
       "1404000H0AAAFAF            3.00            nan             None   \n",
       "0601060D0AAA0A0             nan            nan             None   \n",
       "\n",
       "                 flag_non_bioequivalence  flag_special_containers  \n",
       "bnf_code                                                           \n",
       "1404000H0AAAFAF                      nan                     1.00  \n",
       "1404000H0AAAFAF                      nan                     1.00  \n",
       "0403040W0AAAEAE                      nan                      nan  \n",
       "1404000H0AAAFAF                      nan                     1.00  \n",
       "0601060D0AAA0A0                      nan                      nan  "
      ]
     },
     "execution_count": 18,
     "metadata": {},
     "output_type": "execute_result"
    }
   ],
   "source": [
    "top_1000_ccg.head()"
   ]
  },
  {
   "cell_type": "markdown",
   "metadata": {
    "ein.tags": [
     "worksheet-0"
    ],
    "slideshow": {
     "slide_type": "-"
    }
   },
   "source": [
    "How do the savings break down by Tariff Part VIII?"
   ]
  },
  {
   "cell_type": "code",
   "execution_count": 10,
   "metadata": {
    "autoscroll": "json-false",
    "collapsed": false,
    "ein.tags": [
     "worksheet-0"
    ],
    "slideshow": {
     "slide_type": "-"
    }
   },
   "outputs": [
    {
     "name": "stdout",
     "output_type": "stream",
     "text": [
      "category\n",
      "A      £202,028.43 \n",
      "C     £2,629,889.43\n",
      "M      £787,242.56 \n",
      "NP8   £2,923,970.01\n"
     ]
    }
   ],
   "source": [
    "top_1000_ccg.to_csv(\"ccgs-%s.csv\" % month)\n",
    "print top_1000_ccg.groupby('category')['possible_savings'].sum().to_string(float_format='£{:,.2f}'.format)"
   ]
  },
  {
   "cell_type": "markdown",
   "metadata": {},
   "source": [
    "What are the top chemicals?"
   ]
  },
  {
   "cell_type": "code",
   "execution_count": 13,
   "metadata": {
    "collapsed": false
   },
   "outputs": [
    {
     "name": "stdout",
     "output_type": "stream",
     "text": [
      "bnf_chemical\n",
      "Influenza                        £1,379,060.40\n",
      "Glucose Blood Testing Reagents    £853,190.71 \n",
      "Fluticasone Propionate (Inh)      £714,340.28 \n",
      "Venlafaxine                       £423,466.31 \n",
      "Pregabalin                        £400,508.84 \n"
     ]
    }
   ],
   "source": [
    "print top_1000_ccg.groupby('bnf_chemical')['possible_savings'].sum().sort_values(ascending=False).head().to_string(float_format='£{:,.2f}'.format)\n"
   ]
  },
  {
   "cell_type": "markdown",
   "metadata": {
    "ein.tags": [
     "worksheet-0"
    ],
    "slideshow": {
     "slide_type": "-"
    }
   },
   "source": [
    "## Grouped by CCG\n",
    "\n",
    "The same data as above, but grouped by CCG rather than CCG-presentation pairs."
   ]
  },
  {
   "cell_type": "code",
   "execution_count": 14,
   "metadata": {
    "autoscroll": "json-false",
    "collapsed": false,
    "ein.tags": [
     "worksheet-0"
    ],
    "slideshow": {
     "slide_type": "-"
    }
   },
   "outputs": [
    {
     "name": "stdout",
     "output_type": "stream",
     "text": [
      "     Count  Total savings\n",
      "pct                      \n",
      "11J     36   £284,602.42\n",
      "13P     31   £229,372.15\n",
      "09G     28   £207,971.60\n",
      "11N     24   £179,535.34\n",
      "01H     21   £175,332.87\n"
     ]
    }
   ],
   "source": [
    "by_ccg = top_1000_ccg.groupby('pct')['possible_savings'] \\\n",
    "  .agg({'Count': 'count', 'Total savings': 'sum'}).sort_values('Total savings', ascending=False)\n",
    "print by_ccg.head().to_string(float_format='£{:,.2f}'.format)"
   ]
  },
  {
   "cell_type": "code",
   "execution_count": 15,
   "metadata": {
    "autoscroll": "json-false",
    "collapsed": false,
    "ein.tags": [
     "worksheet-0"
    ],
    "slideshow": {
     "slide_type": "-"
    }
   },
   "outputs": [
    {
     "name": "stdout",
     "output_type": "stream",
     "text": [
      "A total of £6543130.42 savings per month\n"
     ]
    }
   ],
   "source": [
    "print \"A total of £%.2f savings per month\" % by_ccg['Total savings'].sum()"
   ]
  },
  {
   "cell_type": "markdown",
   "metadata": {
    "ein.tags": [
     "worksheet-0"
    ],
    "slideshow": {
     "slide_type": "-"
    }
   },
   "source": [
    "## Just focusing on Rich's CCG\n",
    "\n",
    "It could have saved £300k:"
   ]
  },
  {
   "cell_type": "code",
   "execution_count": 16,
   "metadata": {
    "autoscroll": "json-false",
    "collapsed": false,
    "ein.tags": [
     "worksheet-0"
    ],
    "slideshow": {
     "slide_type": "-"
    }
   },
   "outputs": [
    {
     "data": {
      "text/plain": [
       "Count                20.000000\n",
       "Total savings    161897.115308\n",
       "Name: 99P, dtype: float64"
      ]
     },
     "execution_count": 16,
     "metadata": {},
     "output_type": "execute_result"
    }
   ],
   "source": [
    "by_ccg.loc('savings_presentations_pct')['99P']"
   ]
  },
  {
   "cell_type": "markdown",
   "metadata": {},
   "source": [
    "The top 5 savings would have been:"
   ]
  },
  {
   "cell_type": "code",
   "execution_count": 20,
   "metadata": {
    "autoscroll": "json-false",
    "collapsed": false,
    "ein.tags": [
     "worksheet-0"
    ],
    "slideshow": {
     "slide_type": "-"
    }
   },
   "outputs": [],
   "source": [
    "reload(price_utils)\n",
    "asd = price_utils.get_savings(for_entity='99P', month=month, limit=None)"
   ]
  },
  {
   "cell_type": "code",
   "execution_count": 24,
   "metadata": {
    "autoscroll": "json-false",
    "collapsed": false,
    "ein.tags": [
     "worksheet-0"
    ],
    "scrolled": false,
    "slideshow": {
     "slide_type": "-"
    }
   },
   "outputs": [
    {
     "data": {
      "text/html": [
       "<div>\n",
       "<table border=\"1\" class=\"dataframe\">\n",
       "  <thead>\n",
       "    <tr style=\"text-align: right;\">\n",
       "      <th></th>\n",
       "      <th>bnf_presentation</th>\n",
       "      <th>bnf_chemical</th>\n",
       "      <th>pct</th>\n",
       "      <th>category</th>\n",
       "      <th>avg_brand_count_per_practice</th>\n",
       "      <th>lowest_decile</th>\n",
       "      <th>quantity</th>\n",
       "      <th>price_per_dose</th>\n",
       "      <th>possible_savings</th>\n",
       "      <th>formulation_swap</th>\n",
       "      <th>num_pack_sizes</th>\n",
       "      <th>flag_imported</th>\n",
       "      <th>flag_broken_bulk</th>\n",
       "      <th>flag_non_bioequivalence</th>\n",
       "      <th>flag_special_containers</th>\n",
       "    </tr>\n",
       "    <tr>\n",
       "      <th>bnf_code</th>\n",
       "      <th></th>\n",
       "      <th></th>\n",
       "      <th></th>\n",
       "      <th></th>\n",
       "      <th></th>\n",
       "      <th></th>\n",
       "      <th></th>\n",
       "      <th></th>\n",
       "      <th></th>\n",
       "      <th></th>\n",
       "      <th></th>\n",
       "      <th></th>\n",
       "      <th></th>\n",
       "      <th></th>\n",
       "      <th></th>\n",
       "    </tr>\n",
       "  </thead>\n",
       "  <tbody>\n",
       "    <tr>\n",
       "      <th>1404000H0AAAFAF</th>\n",
       "      <td>Influenza_Vac Inact 0.5ml Pfs</td>\n",
       "      <td>Influenza</td>\n",
       "      <td>99P</td>\n",
       "      <td>NP8</td>\n",
       "      <td>1.10</td>\n",
       "      <td>5.92</td>\n",
       "      <td>35736</td>\n",
       "      <td>6.48</td>\n",
       "      <td>20,338.19</td>\n",
       "      <td>NaN</td>\n",
       "      <td>3.00</td>\n",
       "      <td>nan</td>\n",
       "      <td>None</td>\n",
       "      <td>nan</td>\n",
       "      <td>1.00</td>\n",
       "    </tr>\n",
       "    <tr>\n",
       "      <th>0302000K0AAAMAM</th>\n",
       "      <td>Budesonide/Formoterol Inh B/A 200/6(120D</td>\n",
       "      <td>Budesonide</td>\n",
       "      <td>99P</td>\n",
       "      <td>C</td>\n",
       "      <td>2.19</td>\n",
       "      <td>33.98</td>\n",
       "      <td>5042</td>\n",
       "      <td>36.58</td>\n",
       "      <td>13,145.11</td>\n",
       "      <td>NaN</td>\n",
       "      <td>3.00</td>\n",
       "      <td>nan</td>\n",
       "      <td>None</td>\n",
       "      <td>nan</td>\n",
       "      <td>1.00</td>\n",
       "    </tr>\n",
       "    <tr>\n",
       "      <th>0601060D0AAA0A0</th>\n",
       "      <td>Glucose Blood Testing Reagents</td>\n",
       "      <td>Glucose Blood Testing Reagents</td>\n",
       "      <td>99P</td>\n",
       "      <td>NP8</td>\n",
       "      <td>11.61</td>\n",
       "      <td>0.24</td>\n",
       "      <td>931673</td>\n",
       "      <td>0.25</td>\n",
       "      <td>12,942.32</td>\n",
       "      <td>NaN</td>\n",
       "      <td>nan</td>\n",
       "      <td>nan</td>\n",
       "      <td>None</td>\n",
       "      <td>nan</td>\n",
       "      <td>nan</td>\n",
       "    </tr>\n",
       "    <tr>\n",
       "      <th>0408010AEAAAGAG</th>\n",
       "      <td>Pregabalin_Cap 300mg</td>\n",
       "      <td>Pregabalin</td>\n",
       "      <td>99P</td>\n",
       "      <td>C</td>\n",
       "      <td>2.13</td>\n",
       "      <td>0.99</td>\n",
       "      <td>93796</td>\n",
       "      <td>1.12</td>\n",
       "      <td>11,986.01</td>\n",
       "      <td>NaN</td>\n",
       "      <td>3.00</td>\n",
       "      <td>nan</td>\n",
       "      <td>None</td>\n",
       "      <td>nan</td>\n",
       "      <td>nan</td>\n",
       "    </tr>\n",
       "    <tr>\n",
       "      <th>0408010AEAAAEAE</th>\n",
       "      <td>Pregabalin_Cap 150mg</td>\n",
       "      <td>Pregabalin</td>\n",
       "      <td>99P</td>\n",
       "      <td>C</td>\n",
       "      <td>2.21</td>\n",
       "      <td>0.98</td>\n",
       "      <td>89637</td>\n",
       "      <td>1.11</td>\n",
       "      <td>11,896.73</td>\n",
       "      <td>NaN</td>\n",
       "      <td>3.00</td>\n",
       "      <td>nan</td>\n",
       "      <td>None</td>\n",
       "      <td>nan</td>\n",
       "      <td>nan</td>\n",
       "    </tr>\n",
       "  </tbody>\n",
       "</table>\n",
       "</div>"
      ],
      "text/plain": [
       "                                         bnf_presentation  \\\n",
       "bnf_code                                                    \n",
       "1404000H0AAAFAF             Influenza_Vac Inact 0.5ml Pfs   \n",
       "0302000K0AAAMAM  Budesonide/Formoterol Inh B/A 200/6(120D   \n",
       "0601060D0AAA0A0            Glucose Blood Testing Reagents   \n",
       "0408010AEAAAGAG                      Pregabalin_Cap 300mg   \n",
       "0408010AEAAAEAE                      Pregabalin_Cap 150mg   \n",
       "\n",
       "                                   bnf_chemical  pct category  \\\n",
       "bnf_code                                                        \n",
       "1404000H0AAAFAF                       Influenza  99P      NP8   \n",
       "0302000K0AAAMAM                      Budesonide  99P        C   \n",
       "0601060D0AAA0A0  Glucose Blood Testing Reagents  99P      NP8   \n",
       "0408010AEAAAGAG                      Pregabalin  99P        C   \n",
       "0408010AEAAAEAE                      Pregabalin  99P        C   \n",
       "\n",
       "                 avg_brand_count_per_practice  lowest_decile  quantity  \\\n",
       "bnf_code                                                                 \n",
       "1404000H0AAAFAF                          1.10           5.92     35736   \n",
       "0302000K0AAAMAM                          2.19          33.98      5042   \n",
       "0601060D0AAA0A0                         11.61           0.24    931673   \n",
       "0408010AEAAAGAG                          2.13           0.99     93796   \n",
       "0408010AEAAAEAE                          2.21           0.98     89637   \n",
       "\n",
       "                 price_per_dose  possible_savings formulation_swap  \\\n",
       "bnf_code                                                             \n",
       "1404000H0AAAFAF            6.48         20,338.19              NaN   \n",
       "0302000K0AAAMAM           36.58         13,145.11              NaN   \n",
       "0601060D0AAA0A0            0.25         12,942.32              NaN   \n",
       "0408010AEAAAGAG            1.12         11,986.01              NaN   \n",
       "0408010AEAAAEAE            1.11         11,896.73              NaN   \n",
       "\n",
       "                 num_pack_sizes  flag_imported flag_broken_bulk  \\\n",
       "bnf_code                                                          \n",
       "1404000H0AAAFAF            3.00            nan             None   \n",
       "0302000K0AAAMAM            3.00            nan             None   \n",
       "0601060D0AAA0A0             nan            nan             None   \n",
       "0408010AEAAAGAG            3.00            nan             None   \n",
       "0408010AEAAAEAE            3.00            nan             None   \n",
       "\n",
       "                 flag_non_bioequivalence  flag_special_containers  \n",
       "bnf_code                                                           \n",
       "1404000H0AAAFAF                      nan                     1.00  \n",
       "0302000K0AAAMAM                      nan                     1.00  \n",
       "0601060D0AAA0A0                      nan                      nan  \n",
       "0408010AEAAAGAG                      nan                      nan  \n",
       "0408010AEAAAEAE                      nan                      nan  "
      ]
     },
     "execution_count": 24,
     "metadata": {},
     "output_type": "execute_result"
    }
   ],
   "source": [
    "asd.sort_values('possible_savings', ascending=False).head(5)"
   ]
  },
  {
   "cell_type": "code",
   "execution_count": 25,
   "metadata": {
    "autoscroll": "json-false",
    "collapsed": false,
    "ein.tags": [
     "worksheet-0"
    ],
    "slideshow": {
     "slide_type": "-"
    }
   },
   "outputs": [],
   "source": [
    "# Save it to a cSV\n",
    "\n",
    "asd.sort_values('possible_savings', ascending=False).to_csv(\"99P-full-%s.csv\" % month)"
   ]
  },
  {
   "cell_type": "markdown",
   "metadata": {
    "ein.tags": [
     "worksheet-0"
    ],
    "slideshow": {
     "slide_type": "-"
    }
   },
   "source": [
    "# Same thing for practices"
   ]
  },
  {
   "cell_type": "code",
   "execution_count": 26,
   "metadata": {
    "autoscroll": "json-false",
    "collapsed": false,
    "ein.tags": [
     "worksheet-0"
    ],
    "slideshow": {
     "slide_type": "-"
    }
   },
   "outputs": [],
   "source": [
    "reload(price_utils)\n",
    "top_1000_practice = price_utils.get_savings(group_by='practice',month=month, limit=1000)"
   ]
  },
  {
   "cell_type": "code",
   "execution_count": 27,
   "metadata": {
    "autoscroll": "json-false",
    "collapsed": false,
    "ein.tags": [
     "worksheet-0"
    ],
    "scrolled": false,
    "slideshow": {
     "slide_type": "-"
    }
   },
   "outputs": [
    {
     "data": {
      "text/html": [
       "<div>\n",
       "<table border=\"1\" class=\"dataframe\">\n",
       "  <thead>\n",
       "    <tr style=\"text-align: right;\">\n",
       "      <th></th>\n",
       "      <th>bnf_presentation</th>\n",
       "      <th>bnf_chemical</th>\n",
       "      <th>practice</th>\n",
       "      <th>pct</th>\n",
       "      <th>category</th>\n",
       "      <th>avg_brand_count_per_practice</th>\n",
       "      <th>lowest_decile</th>\n",
       "      <th>quantity</th>\n",
       "      <th>price_per_dose</th>\n",
       "      <th>possible_savings</th>\n",
       "      <th>formulation_swap</th>\n",
       "      <th>num_pack_sizes</th>\n",
       "      <th>flag_imported</th>\n",
       "      <th>flag_broken_bulk</th>\n",
       "      <th>flag_non_bioequivalence</th>\n",
       "      <th>flag_special_containers</th>\n",
       "    </tr>\n",
       "    <tr>\n",
       "      <th>bnf_code</th>\n",
       "      <th></th>\n",
       "      <th></th>\n",
       "      <th></th>\n",
       "      <th></th>\n",
       "      <th></th>\n",
       "      <th></th>\n",
       "      <th></th>\n",
       "      <th></th>\n",
       "      <th></th>\n",
       "      <th></th>\n",
       "      <th></th>\n",
       "      <th></th>\n",
       "      <th></th>\n",
       "      <th></th>\n",
       "      <th></th>\n",
       "      <th></th>\n",
       "    </tr>\n",
       "  </thead>\n",
       "  <tbody>\n",
       "    <tr>\n",
       "      <th>0208010L0AAAIAI</th>\n",
       "      <td>Dalteparin Sod_Inj 25,000u/ml 0.72ml Pfs</td>\n",
       "      <td>Dalteparin Sodium</td>\n",
       "      <td>K84055</td>\n",
       "      <td>10Q</td>\n",
       "      <td>NP8</td>\n",
       "      <td>1</td>\n",
       "      <td>10.16</td>\n",
       "      <td>110</td>\n",
       "      <td>137.41</td>\n",
       "      <td>13,996.85</td>\n",
       "      <td>NaN</td>\n",
       "      <td>3.00</td>\n",
       "      <td>nan</td>\n",
       "      <td>None</td>\n",
       "      <td>nan</td>\n",
       "      <td>nan</td>\n",
       "    </tr>\n",
       "    <tr>\n",
       "      <th>0908010P0AAAEAE</th>\n",
       "      <td>Sod Phenylbut_Liq Spec 1.25g/5ml</td>\n",
       "      <td>Sodium Phenylbutyrate</td>\n",
       "      <td>J82034</td>\n",
       "      <td>11A</td>\n",
       "      <td>NP8</td>\n",
       "      <td>1</td>\n",
       "      <td>1.09</td>\n",
       "      <td>2500</td>\n",
       "      <td>5.56</td>\n",
       "      <td>11,187.72</td>\n",
       "      <td>NaN</td>\n",
       "      <td>3.00</td>\n",
       "      <td>nan</td>\n",
       "      <td>None</td>\n",
       "      <td>nan</td>\n",
       "      <td>nan</td>\n",
       "    </tr>\n",
       "    <tr>\n",
       "      <th>0908010S0AAACAC</th>\n",
       "      <td>Trientine Dihydroch_Cap 300mg</td>\n",
       "      <td>Trientine Dihydrochloride</td>\n",
       "      <td>E83638</td>\n",
       "      <td>07M</td>\n",
       "      <td>NP8</td>\n",
       "      <td>1</td>\n",
       "      <td>22.91</td>\n",
       "      <td>400</td>\n",
       "      <td>49.99</td>\n",
       "      <td>10,831.68</td>\n",
       "      <td>NaN</td>\n",
       "      <td>nan</td>\n",
       "      <td>nan</td>\n",
       "      <td>None</td>\n",
       "      <td>nan</td>\n",
       "      <td>nan</td>\n",
       "    </tr>\n",
       "    <tr>\n",
       "      <th>0401010ADAABPBP</th>\n",
       "      <td>Melatonin_Tab 3mg</td>\n",
       "      <td>Melatonin</td>\n",
       "      <td>H82016</td>\n",
       "      <td>09G</td>\n",
       "      <td>NP8</td>\n",
       "      <td>2</td>\n",
       "      <td>0.75</td>\n",
       "      <td>552</td>\n",
       "      <td>19.26</td>\n",
       "      <td>10,219.03</td>\n",
       "      <td>Tab  / Cap</td>\n",
       "      <td>nan</td>\n",
       "      <td>nan</td>\n",
       "      <td>None</td>\n",
       "      <td>nan</td>\n",
       "      <td>nan</td>\n",
       "    </tr>\n",
       "    <tr>\n",
       "      <th>0908010S0AAACAC</th>\n",
       "      <td>Trientine Dihydroch_Cap 300mg</td>\n",
       "      <td>Trientine Dihydrochloride</td>\n",
       "      <td>F81069</td>\n",
       "      <td>06T</td>\n",
       "      <td>NP8</td>\n",
       "      <td>1</td>\n",
       "      <td>22.91</td>\n",
       "      <td>200</td>\n",
       "      <td>65.74</td>\n",
       "      <td>8,565.84</td>\n",
       "      <td>NaN</td>\n",
       "      <td>nan</td>\n",
       "      <td>nan</td>\n",
       "      <td>None</td>\n",
       "      <td>nan</td>\n",
       "      <td>nan</td>\n",
       "    </tr>\n",
       "    <tr>\n",
       "      <th>0902012L0AABRBR</th>\n",
       "      <td>Sod Chlor_Liq Spec 292.5mg/5ml</td>\n",
       "      <td>Sodium Chloride</td>\n",
       "      <td>B83602</td>\n",
       "      <td>02N</td>\n",
       "      <td>NP8</td>\n",
       "      <td>1</td>\n",
       "      <td>0.06</td>\n",
       "      <td>8000</td>\n",
       "      <td>1.10</td>\n",
       "      <td>8,309.15</td>\n",
       "      <td>Liq Spec  / Oral Soln</td>\n",
       "      <td>nan</td>\n",
       "      <td>nan</td>\n",
       "      <td>None</td>\n",
       "      <td>nan</td>\n",
       "      <td>nan</td>\n",
       "    </tr>\n",
       "    <tr>\n",
       "      <th>1404000H0AAAFAF</th>\n",
       "      <td>Influenza_Vac Inact 0.5ml Pfs</td>\n",
       "      <td>Influenza</td>\n",
       "      <td>H82052</td>\n",
       "      <td>09H</td>\n",
       "      <td>NP8</td>\n",
       "      <td>1</td>\n",
       "      <td>5.92</td>\n",
       "      <td>1771</td>\n",
       "      <td>9.94</td>\n",
       "      <td>7,119.42</td>\n",
       "      <td>NaN</td>\n",
       "      <td>3.00</td>\n",
       "      <td>nan</td>\n",
       "      <td>None</td>\n",
       "      <td>nan</td>\n",
       "      <td>1.00</td>\n",
       "    </tr>\n",
       "    <tr>\n",
       "      <th>0407010Q0AAAAAA</th>\n",
       "      <td>Co-Proxamol_Tab 32.5mg/325mg</td>\n",
       "      <td>Co-Proxamol (Dextroprop HCl/Paracet)</td>\n",
       "      <td>M91011</td>\n",
       "      <td>05Y</td>\n",
       "      <td>NP8</td>\n",
       "      <td>1</td>\n",
       "      <td>0.70</td>\n",
       "      <td>3672</td>\n",
       "      <td>2.55</td>\n",
       "      <td>6,780.45</td>\n",
       "      <td>NaN</td>\n",
       "      <td>3.00</td>\n",
       "      <td>nan</td>\n",
       "      <td>None</td>\n",
       "      <td>nan</td>\n",
       "      <td>nan</td>\n",
       "    </tr>\n",
       "    <tr>\n",
       "      <th>0208010L0AAAHAH</th>\n",
       "      <td>Dalteparin Sod_Inj 25,000u/ml 0.6ml Pfs</td>\n",
       "      <td>Dalteparin Sodium</td>\n",
       "      <td>C82031</td>\n",
       "      <td>04C</td>\n",
       "      <td>NP8</td>\n",
       "      <td>1</td>\n",
       "      <td>8.47</td>\n",
       "      <td>60</td>\n",
       "      <td>115.16</td>\n",
       "      <td>6,401.77</td>\n",
       "      <td>NaN</td>\n",
       "      <td>3.00</td>\n",
       "      <td>nan</td>\n",
       "      <td>None</td>\n",
       "      <td>nan</td>\n",
       "      <td>nan</td>\n",
       "    </tr>\n",
       "    <tr>\n",
       "      <th>1404000H0AAAFAF</th>\n",
       "      <td>Influenza_Vac Inact 0.5ml Pfs</td>\n",
       "      <td>Influenza</td>\n",
       "      <td>G83006</td>\n",
       "      <td>07N</td>\n",
       "      <td>NP8</td>\n",
       "      <td>1</td>\n",
       "      <td>5.92</td>\n",
       "      <td>1500</td>\n",
       "      <td>9.94</td>\n",
       "      <td>6,030.00</td>\n",
       "      <td>NaN</td>\n",
       "      <td>3.00</td>\n",
       "      <td>nan</td>\n",
       "      <td>None</td>\n",
       "      <td>nan</td>\n",
       "      <td>1.00</td>\n",
       "    </tr>\n",
       "  </tbody>\n",
       "</table>\n",
       "</div>"
      ],
      "text/plain": [
       "                                         bnf_presentation  \\\n",
       "bnf_code                                                    \n",
       "0208010L0AAAIAI  Dalteparin Sod_Inj 25,000u/ml 0.72ml Pfs   \n",
       "0908010P0AAAEAE          Sod Phenylbut_Liq Spec 1.25g/5ml   \n",
       "0908010S0AAACAC             Trientine Dihydroch_Cap 300mg   \n",
       "0401010ADAABPBP                         Melatonin_Tab 3mg   \n",
       "0908010S0AAACAC             Trientine Dihydroch_Cap 300mg   \n",
       "0902012L0AABRBR            Sod Chlor_Liq Spec 292.5mg/5ml   \n",
       "1404000H0AAAFAF             Influenza_Vac Inact 0.5ml Pfs   \n",
       "0407010Q0AAAAAA              Co-Proxamol_Tab 32.5mg/325mg   \n",
       "0208010L0AAAHAH   Dalteparin Sod_Inj 25,000u/ml 0.6ml Pfs   \n",
       "1404000H0AAAFAF             Influenza_Vac Inact 0.5ml Pfs   \n",
       "\n",
       "                                         bnf_chemical practice  pct category  \\\n",
       "bnf_code                                                                       \n",
       "0208010L0AAAIAI                     Dalteparin Sodium   K84055  10Q      NP8   \n",
       "0908010P0AAAEAE                 Sodium Phenylbutyrate   J82034  11A      NP8   \n",
       "0908010S0AAACAC             Trientine Dihydrochloride   E83638  07M      NP8   \n",
       "0401010ADAABPBP                             Melatonin   H82016  09G      NP8   \n",
       "0908010S0AAACAC             Trientine Dihydrochloride   F81069  06T      NP8   \n",
       "0902012L0AABRBR                       Sodium Chloride   B83602  02N      NP8   \n",
       "1404000H0AAAFAF                             Influenza   H82052  09H      NP8   \n",
       "0407010Q0AAAAAA  Co-Proxamol (Dextroprop HCl/Paracet)   M91011  05Y      NP8   \n",
       "0208010L0AAAHAH                     Dalteparin Sodium   C82031  04C      NP8   \n",
       "1404000H0AAAFAF                             Influenza   G83006  07N      NP8   \n",
       "\n",
       "                 avg_brand_count_per_practice  lowest_decile  quantity  \\\n",
       "bnf_code                                                                 \n",
       "0208010L0AAAIAI                             1          10.16       110   \n",
       "0908010P0AAAEAE                             1           1.09      2500   \n",
       "0908010S0AAACAC                             1          22.91       400   \n",
       "0401010ADAABPBP                             2           0.75       552   \n",
       "0908010S0AAACAC                             1          22.91       200   \n",
       "0902012L0AABRBR                             1           0.06      8000   \n",
       "1404000H0AAAFAF                             1           5.92      1771   \n",
       "0407010Q0AAAAAA                             1           0.70      3672   \n",
       "0208010L0AAAHAH                             1           8.47        60   \n",
       "1404000H0AAAFAF                             1           5.92      1500   \n",
       "\n",
       "                 price_per_dose  possible_savings        formulation_swap  \\\n",
       "bnf_code                                                                    \n",
       "0208010L0AAAIAI          137.41         13,996.85                     NaN   \n",
       "0908010P0AAAEAE            5.56         11,187.72                     NaN   \n",
       "0908010S0AAACAC           49.99         10,831.68                     NaN   \n",
       "0401010ADAABPBP           19.26         10,219.03             Tab  / Cap    \n",
       "0908010S0AAACAC           65.74          8,565.84                     NaN   \n",
       "0902012L0AABRBR            1.10          8,309.15  Liq Spec  / Oral Soln    \n",
       "1404000H0AAAFAF            9.94          7,119.42                     NaN   \n",
       "0407010Q0AAAAAA            2.55          6,780.45                     NaN   \n",
       "0208010L0AAAHAH          115.16          6,401.77                     NaN   \n",
       "1404000H0AAAFAF            9.94          6,030.00                     NaN   \n",
       "\n",
       "                 num_pack_sizes  flag_imported flag_broken_bulk  \\\n",
       "bnf_code                                                          \n",
       "0208010L0AAAIAI            3.00            nan             None   \n",
       "0908010P0AAAEAE            3.00            nan             None   \n",
       "0908010S0AAACAC             nan            nan             None   \n",
       "0401010ADAABPBP             nan            nan             None   \n",
       "0908010S0AAACAC             nan            nan             None   \n",
       "0902012L0AABRBR             nan            nan             None   \n",
       "1404000H0AAAFAF            3.00            nan             None   \n",
       "0407010Q0AAAAAA            3.00            nan             None   \n",
       "0208010L0AAAHAH            3.00            nan             None   \n",
       "1404000H0AAAFAF            3.00            nan             None   \n",
       "\n",
       "                 flag_non_bioequivalence  flag_special_containers  \n",
       "bnf_code                                                           \n",
       "0208010L0AAAIAI                      nan                      nan  \n",
       "0908010P0AAAEAE                      nan                      nan  \n",
       "0908010S0AAACAC                      nan                      nan  \n",
       "0401010ADAABPBP                      nan                      nan  \n",
       "0908010S0AAACAC                      nan                      nan  \n",
       "0902012L0AABRBR                      nan                      nan  \n",
       "1404000H0AAAFAF                      nan                     1.00  \n",
       "0407010Q0AAAAAA                      nan                      nan  \n",
       "0208010L0AAAHAH                      nan                      nan  \n",
       "1404000H0AAAFAF                      nan                     1.00  "
      ]
     },
     "execution_count": 27,
     "metadata": {},
     "output_type": "execute_result"
    }
   ],
   "source": [
    "top_1000_practice.head(10)"
   ]
  },
  {
   "cell_type": "markdown",
   "metadata": {},
   "source": [
    "### What savings appear only once in this list?"
   ]
  },
  {
   "cell_type": "code",
   "execution_count": 33,
   "metadata": {
    "collapsed": false
   },
   "outputs": [
    {
     "name": "stdout",
     "output_type": "stream",
     "text": [
      "There are 113 singletons in the practice-presentation savings list, for example:\n"
     ]
    },
    {
     "data": {
      "text/html": [
       "<div>\n",
       "<table border=\"1\" class=\"dataframe\">\n",
       "  <thead>\n",
       "    <tr style=\"text-align: right;\">\n",
       "      <th></th>\n",
       "      <th>bnf_presentation</th>\n",
       "      <th>bnf_chemical</th>\n",
       "      <th>practice</th>\n",
       "      <th>pct</th>\n",
       "      <th>category</th>\n",
       "      <th>avg_brand_count_per_practice</th>\n",
       "      <th>lowest_decile</th>\n",
       "      <th>quantity</th>\n",
       "      <th>price_per_dose</th>\n",
       "      <th>possible_savings</th>\n",
       "      <th>formulation_swap</th>\n",
       "      <th>num_pack_sizes</th>\n",
       "      <th>flag_imported</th>\n",
       "      <th>flag_broken_bulk</th>\n",
       "      <th>flag_non_bioequivalence</th>\n",
       "      <th>flag_special_containers</th>\n",
       "    </tr>\n",
       "    <tr>\n",
       "      <th>bnf_code</th>\n",
       "      <th></th>\n",
       "      <th></th>\n",
       "      <th></th>\n",
       "      <th></th>\n",
       "      <th></th>\n",
       "      <th></th>\n",
       "      <th></th>\n",
       "      <th></th>\n",
       "      <th></th>\n",
       "      <th></th>\n",
       "      <th></th>\n",
       "      <th></th>\n",
       "      <th></th>\n",
       "      <th></th>\n",
       "      <th></th>\n",
       "      <th></th>\n",
       "    </tr>\n",
       "  </thead>\n",
       "  <tbody>\n",
       "    <tr>\n",
       "      <th>0902012L0AABXBX</th>\n",
       "      <td>Sod Chlor_Liq Spec 585mg/5ml</td>\n",
       "      <td>Sodium Chloride</td>\n",
       "      <td>G82228</td>\n",
       "      <td>09E</td>\n",
       "      <td>NP8</td>\n",
       "      <td>1</td>\n",
       "      <td>0.63</td>\n",
       "      <td>600</td>\n",
       "      <td>7.57</td>\n",
       "      <td>4,164.02</td>\n",
       "      <td>NaN</td>\n",
       "      <td>3.00</td>\n",
       "      <td>nan</td>\n",
       "      <td>None</td>\n",
       "      <td>nan</td>\n",
       "      <td>nan</td>\n",
       "    </tr>\n",
       "    <tr>\n",
       "      <th>1202020L0AACDCD</th>\n",
       "      <td>Sod Chlor_Neb Soln 7% 5ml Btl</td>\n",
       "      <td>Sodium Chloride</td>\n",
       "      <td>F84006</td>\n",
       "      <td>08M</td>\n",
       "      <td>NP8</td>\n",
       "      <td>1</td>\n",
       "      <td>6.09</td>\n",
       "      <td>30</td>\n",
       "      <td>137.77</td>\n",
       "      <td>3,950.41</td>\n",
       "      <td>NaN</td>\n",
       "      <td>3.00</td>\n",
       "      <td>nan</td>\n",
       "      <td>None</td>\n",
       "      <td>nan</td>\n",
       "      <td>nan</td>\n",
       "    </tr>\n",
       "    <tr>\n",
       "      <th>091102000AABDBD</th>\n",
       "      <td>Ubidecarenone_Oral Dps 5mg/ml</td>\n",
       "      <td>Other Enzyme Preps 0911020</td>\n",
       "      <td>B86003</td>\n",
       "      <td>03C</td>\n",
       "      <td>NP8</td>\n",
       "      <td>1</td>\n",
       "      <td>1.17</td>\n",
       "      <td>1000</td>\n",
       "      <td>4.93</td>\n",
       "      <td>3,756.90</td>\n",
       "      <td>NaN</td>\n",
       "      <td>nan</td>\n",
       "      <td>nan</td>\n",
       "      <td>None</td>\n",
       "      <td>nan</td>\n",
       "      <td>nan</td>\n",
       "    </tr>\n",
       "    <tr>\n",
       "      <th>0908010N0AAAIAI</th>\n",
       "      <td>Sod Benz_Liq Spec 1g/5ml</td>\n",
       "      <td>Sodium Benzoate</td>\n",
       "      <td>C88048</td>\n",
       "      <td>03N</td>\n",
       "      <td>NP8</td>\n",
       "      <td>1</td>\n",
       "      <td>0.68</td>\n",
       "      <td>2000</td>\n",
       "      <td>2.54</td>\n",
       "      <td>3,713.29</td>\n",
       "      <td>NaN</td>\n",
       "      <td>3.00</td>\n",
       "      <td>nan</td>\n",
       "      <td>None</td>\n",
       "      <td>nan</td>\n",
       "      <td>nan</td>\n",
       "    </tr>\n",
       "    <tr>\n",
       "      <th>0404000L0AAAYAY</th>\n",
       "      <td>Dexamfet Sulf/Amfet_Cap 15mg/15mg M/R</td>\n",
       "      <td>Dexamfetamine Sulfate</td>\n",
       "      <td>F83678</td>\n",
       "      <td>08H</td>\n",
       "      <td>NP8</td>\n",
       "      <td>1</td>\n",
       "      <td>11.28</td>\n",
       "      <td>180</td>\n",
       "      <td>31.84</td>\n",
       "      <td>3,700.86</td>\n",
       "      <td>NaN</td>\n",
       "      <td>3.00</td>\n",
       "      <td>1.00</td>\n",
       "      <td>None</td>\n",
       "      <td>nan</td>\n",
       "      <td>nan</td>\n",
       "    </tr>\n",
       "    <tr>\n",
       "      <th>0101012B0AABSBS</th>\n",
       "      <td>Sod Bicarb_Liq Spec 50mg/5ml</td>\n",
       "      <td>Sodium Bicarbonate</td>\n",
       "      <td>Y00243</td>\n",
       "      <td>06N</td>\n",
       "      <td>NP8</td>\n",
       "      <td>1</td>\n",
       "      <td>0.01</td>\n",
       "      <td>2835</td>\n",
       "      <td>1.24</td>\n",
       "      <td>3,501.45</td>\n",
       "      <td>Liq Spec  / Oral Soln</td>\n",
       "      <td>3.00</td>\n",
       "      <td>nan</td>\n",
       "      <td>None</td>\n",
       "      <td>nan</td>\n",
       "      <td>nan</td>\n",
       "    </tr>\n",
       "    <tr>\n",
       "      <th>0309010L0AAAHAH</th>\n",
       "      <td>Dextrometh Hydrob_Oral Susp 30mg/5ml</td>\n",
       "      <td>Dextromethorphan Hydrobromide</td>\n",
       "      <td>G82085</td>\n",
       "      <td>99J</td>\n",
       "      <td>NP8</td>\n",
       "      <td>1</td>\n",
       "      <td>0.76</td>\n",
       "      <td>1780</td>\n",
       "      <td>2.72</td>\n",
       "      <td>3,483.61</td>\n",
       "      <td>NaN</td>\n",
       "      <td>3.00</td>\n",
       "      <td>nan</td>\n",
       "      <td>None</td>\n",
       "      <td>nan</td>\n",
       "      <td>nan</td>\n",
       "    </tr>\n",
       "    <tr>\n",
       "      <th>0107010S0AAABAB</th>\n",
       "      <td>Sucralfate_Enem 2g In 20ml</td>\n",
       "      <td>Sucralfate</td>\n",
       "      <td>E85681</td>\n",
       "      <td>07Y</td>\n",
       "      <td>NP8</td>\n",
       "      <td>1</td>\n",
       "      <td>11.71</td>\n",
       "      <td>20</td>\n",
       "      <td>180.00</td>\n",
       "      <td>3,365.81</td>\n",
       "      <td>NaN</td>\n",
       "      <td>3.00</td>\n",
       "      <td>nan</td>\n",
       "      <td>None</td>\n",
       "      <td>nan</td>\n",
       "      <td>nan</td>\n",
       "    </tr>\n",
       "    <tr>\n",
       "      <th>0902021S0AAAZAZ</th>\n",
       "      <td>Sod Chlor_I/V Inf 0.9% 1L</td>\n",
       "      <td>Sodium Chloride</td>\n",
       "      <td>A85005</td>\n",
       "      <td>13T</td>\n",
       "      <td>NP8</td>\n",
       "      <td>2</td>\n",
       "      <td>1.67</td>\n",
       "      <td>70</td>\n",
       "      <td>47.79</td>\n",
       "      <td>3,228.16</td>\n",
       "      <td>I/V Inf  / Blad Irrig</td>\n",
       "      <td>3.00</td>\n",
       "      <td>nan</td>\n",
       "      <td>None</td>\n",
       "      <td>nan</td>\n",
       "      <td>1.00</td>\n",
       "    </tr>\n",
       "    <tr>\n",
       "      <th>0906040G0AABEBE</th>\n",
       "      <td>Colecal_Cap 2,200u (Old)</td>\n",
       "      <td>Colecalciferol</td>\n",
       "      <td>M85033</td>\n",
       "      <td>13P</td>\n",
       "      <td>NP8</td>\n",
       "      <td>1</td>\n",
       "      <td>0.25</td>\n",
       "      <td>200</td>\n",
       "      <td>16.14</td>\n",
       "      <td>3,177.93</td>\n",
       "      <td>Cap  / Tab</td>\n",
       "      <td>nan</td>\n",
       "      <td>nan</td>\n",
       "      <td>None</td>\n",
       "      <td>nan</td>\n",
       "      <td>nan</td>\n",
       "    </tr>\n",
       "  </tbody>\n",
       "</table>\n",
       "</div>"
      ],
      "text/plain": [
       "                                      bnf_presentation  \\\n",
       "bnf_code                                                 \n",
       "0902012L0AABXBX           Sod Chlor_Liq Spec 585mg/5ml   \n",
       "1202020L0AACDCD          Sod Chlor_Neb Soln 7% 5ml Btl   \n",
       "091102000AABDBD          Ubidecarenone_Oral Dps 5mg/ml   \n",
       "0908010N0AAAIAI               Sod Benz_Liq Spec 1g/5ml   \n",
       "0404000L0AAAYAY  Dexamfet Sulf/Amfet_Cap 15mg/15mg M/R   \n",
       "0101012B0AABSBS           Sod Bicarb_Liq Spec 50mg/5ml   \n",
       "0309010L0AAAHAH   Dextrometh Hydrob_Oral Susp 30mg/5ml   \n",
       "0107010S0AAABAB             Sucralfate_Enem 2g In 20ml   \n",
       "0902021S0AAAZAZ              Sod Chlor_I/V Inf 0.9% 1L   \n",
       "0906040G0AABEBE               Colecal_Cap 2,200u (Old)   \n",
       "\n",
       "                                  bnf_chemical practice  pct category  \\\n",
       "bnf_code                                                                \n",
       "0902012L0AABXBX                Sodium Chloride   G82228  09E      NP8   \n",
       "1202020L0AACDCD                Sodium Chloride   F84006  08M      NP8   \n",
       "091102000AABDBD     Other Enzyme Preps 0911020   B86003  03C      NP8   \n",
       "0908010N0AAAIAI                Sodium Benzoate   C88048  03N      NP8   \n",
       "0404000L0AAAYAY          Dexamfetamine Sulfate   F83678  08H      NP8   \n",
       "0101012B0AABSBS             Sodium Bicarbonate   Y00243  06N      NP8   \n",
       "0309010L0AAAHAH  Dextromethorphan Hydrobromide   G82085  99J      NP8   \n",
       "0107010S0AAABAB                     Sucralfate   E85681  07Y      NP8   \n",
       "0902021S0AAAZAZ                Sodium Chloride   A85005  13T      NP8   \n",
       "0906040G0AABEBE                 Colecalciferol   M85033  13P      NP8   \n",
       "\n",
       "                 avg_brand_count_per_practice  lowest_decile  quantity  \\\n",
       "bnf_code                                                                 \n",
       "0902012L0AABXBX                             1           0.63       600   \n",
       "1202020L0AACDCD                             1           6.09        30   \n",
       "091102000AABDBD                             1           1.17      1000   \n",
       "0908010N0AAAIAI                             1           0.68      2000   \n",
       "0404000L0AAAYAY                             1          11.28       180   \n",
       "0101012B0AABSBS                             1           0.01      2835   \n",
       "0309010L0AAAHAH                             1           0.76      1780   \n",
       "0107010S0AAABAB                             1          11.71        20   \n",
       "0902021S0AAAZAZ                             2           1.67        70   \n",
       "0906040G0AABEBE                             1           0.25       200   \n",
       "\n",
       "                 price_per_dose  possible_savings        formulation_swap  \\\n",
       "bnf_code                                                                    \n",
       "0902012L0AABXBX            7.57          4,164.02                     NaN   \n",
       "1202020L0AACDCD          137.77          3,950.41                     NaN   \n",
       "091102000AABDBD            4.93          3,756.90                     NaN   \n",
       "0908010N0AAAIAI            2.54          3,713.29                     NaN   \n",
       "0404000L0AAAYAY           31.84          3,700.86                     NaN   \n",
       "0101012B0AABSBS            1.24          3,501.45  Liq Spec  / Oral Soln    \n",
       "0309010L0AAAHAH            2.72          3,483.61                     NaN   \n",
       "0107010S0AAABAB          180.00          3,365.81                     NaN   \n",
       "0902021S0AAAZAZ           47.79          3,228.16  I/V Inf  / Blad Irrig    \n",
       "0906040G0AABEBE           16.14          3,177.93             Cap  / Tab    \n",
       "\n",
       "                 num_pack_sizes  flag_imported flag_broken_bulk  \\\n",
       "bnf_code                                                          \n",
       "0902012L0AABXBX            3.00            nan             None   \n",
       "1202020L0AACDCD            3.00            nan             None   \n",
       "091102000AABDBD             nan            nan             None   \n",
       "0908010N0AAAIAI            3.00            nan             None   \n",
       "0404000L0AAAYAY            3.00           1.00             None   \n",
       "0101012B0AABSBS            3.00            nan             None   \n",
       "0309010L0AAAHAH            3.00            nan             None   \n",
       "0107010S0AAABAB            3.00            nan             None   \n",
       "0902021S0AAAZAZ            3.00            nan             None   \n",
       "0906040G0AABEBE             nan            nan             None   \n",
       "\n",
       "                 flag_non_bioequivalence  flag_special_containers  \n",
       "bnf_code                                                           \n",
       "0902012L0AABXBX                      nan                      nan  \n",
       "1202020L0AACDCD                      nan                      nan  \n",
       "091102000AABDBD                      nan                      nan  \n",
       "0908010N0AAAIAI                      nan                      nan  \n",
       "0404000L0AAAYAY                      nan                      nan  \n",
       "0101012B0AABSBS                      nan                      nan  \n",
       "0309010L0AAAHAH                      nan                      nan  \n",
       "0107010S0AAABAB                      nan                      nan  \n",
       "0902021S0AAAZAZ                      nan                     1.00  \n",
       "0906040G0AABEBE                      nan                      nan  "
      ]
     },
     "execution_count": 33,
     "metadata": {},
     "output_type": "execute_result"
    }
   ],
   "source": [
    "grouped = top_1000_practice.groupby('bnf_presentation')\n",
    "singletons = grouped.filter(lambda x: len(x) == 1).sort_values('possible_savings', ascending=False)\n",
    "print \"There are %s singletons in the practice-presentation savings list, for example:\" % len(singletons)\n",
    "singletons.head(10)"
   ]
  },
  {
   "cell_type": "code",
   "execution_count": 35,
   "metadata": {
    "autoscroll": "json-false",
    "collapsed": false,
    "ein.tags": [
     "worksheet-0"
    ],
    "slideshow": {
     "slide_type": "-"
    }
   },
   "outputs": [],
   "source": [
    "\n",
    "top_1000_practice.to_csv(\"practices-%s.csv\" % month)"
   ]
  },
  {
   "cell_type": "markdown",
   "metadata": {
    "ein.tags": [
     "worksheet-0"
    ],
    "slideshow": {
     "slide_type": "-"
    }
   },
   "source": [
    "# What is the distribution of the easiest cost savings?\n",
    "\n",
    "For each practice, compute and sum its top three savings, then plot these in a histogram."
   ]
  },
  {
   "cell_type": "code",
   "execution_count": 61,
   "metadata": {
    "autoscroll": "json-false",
    "collapsed": false,
    "ein.tags": [
     "worksheet-0"
    ],
    "slideshow": {
     "slide_type": "-"
    }
   },
   "outputs": [],
   "source": [
    "reload(price_utils)\n",
    "top_10 = price_utils.top_savings_per_entity(top_n=10, entity='practice')\n",
    "top_10.to_csv(\"each_practice_top_10_savings-%s.csv\" % month)"
   ]
  },
  {
   "cell_type": "code",
   "execution_count": 37,
   "metadata": {
    "autoscroll": "json-false",
    "collapsed": false,
    "ein.tags": [
     "worksheet-0"
    ],
    "slideshow": {
     "slide_type": "-"
    }
   },
   "outputs": [],
   "source": [
    "reload(price_utils)\n",
    "top_1 = price_utils.top_savings_per_entity(top_n=1, entity='practice', summed=False)\n",
    "top_1.to_csv(\"top_saving_for_each_practice_%s.csv\" % month)"
   ]
  },
  {
   "cell_type": "code",
   "execution_count": 60,
   "metadata": {
    "autoscroll": "json-false",
    "collapsed": false,
    "ein.tags": [
     "worksheet-0"
    ],
    "slideshow": {
     "slide_type": "-"
    }
   },
   "outputs": [
    {
     "data": {
      "text/html": [
       "<div>\n",
       "<table border=\"1\" class=\"dataframe\">\n",
       "  <thead>\n",
       "    <tr style=\"text-align: right;\">\n",
       "      <th></th>\n",
       "      <th>top_savings_sum</th>\n",
       "    </tr>\n",
       "  </thead>\n",
       "  <tbody>\n",
       "    <tr>\n",
       "      <th>count</th>\n",
       "      <td>7637.000000</td>\n",
       "    </tr>\n",
       "    <tr>\n",
       "      <th>mean</th>\n",
       "      <td>2002.218267</td>\n",
       "    </tr>\n",
       "    <tr>\n",
       "      <th>std</th>\n",
       "      <td>1363.336244</td>\n",
       "    </tr>\n",
       "    <tr>\n",
       "      <th>min</th>\n",
       "      <td>0.000000</td>\n",
       "    </tr>\n",
       "    <tr>\n",
       "      <th>25%</th>\n",
       "      <td>1079.671028</td>\n",
       "    </tr>\n",
       "    <tr>\n",
       "      <th>50%</th>\n",
       "      <td>1722.737374</td>\n",
       "    </tr>\n",
       "    <tr>\n",
       "      <th>75%</th>\n",
       "      <td>2600.779768</td>\n",
       "    </tr>\n",
       "    <tr>\n",
       "      <th>max</th>\n",
       "      <td>17809.622578</td>\n",
       "    </tr>\n",
       "  </tbody>\n",
       "</table>\n",
       "</div>"
      ],
      "text/plain": [
       "       top_savings_sum\n",
       "count      7637.000000\n",
       "mean       2002.218267\n",
       "std        1363.336244\n",
       "min           0.000000\n",
       "25%        1079.671028\n",
       "50%        1722.737374\n",
       "75%        2600.779768\n",
       "max       17809.622578"
      ]
     },
     "execution_count": 60,
     "metadata": {},
     "output_type": "execute_result"
    }
   ],
   "source": [
    "top_10.describe()"
   ]
  },
  {
   "cell_type": "code",
   "execution_count": 67,
   "metadata": {
    "collapsed": false
   },
   "outputs": [
    {
     "data": {
      "text/html": [
       "<div>\n",
       "<table border=\"1\" class=\"dataframe\">\n",
       "  <thead>\n",
       "    <tr style=\"text-align: right;\">\n",
       "      <th></th>\n",
       "      <th>practice</th>\n",
       "      <th>top_savings_sum</th>\n",
       "    </tr>\n",
       "  </thead>\n",
       "  <tbody>\n",
       "    <tr>\n",
       "      <th>4876</th>\n",
       "      <td>K84055</td>\n",
       "      <td>17809.622578</td>\n",
       "    </tr>\n",
       "    <tr>\n",
       "      <th>714</th>\n",
       "      <td>B83602</td>\n",
       "      <td>17773.665735</td>\n",
       "    </tr>\n",
       "    <tr>\n",
       "      <th>4382</th>\n",
       "      <td>J82094</td>\n",
       "      <td>16966.668402</td>\n",
       "    </tr>\n",
       "    <tr>\n",
       "      <th>4334</th>\n",
       "      <td>J82034</td>\n",
       "      <td>13671.041531</td>\n",
       "    </tr>\n",
       "    <tr>\n",
       "      <th>5798</th>\n",
       "      <td>M85063</td>\n",
       "      <td>13549.065237</td>\n",
       "    </tr>\n",
       "  </tbody>\n",
       "</table>\n",
       "</div>"
      ],
      "text/plain": [
       "     practice  top_savings_sum\n",
       "4876   K84055     17809.622578\n",
       "714    B83602     17773.665735\n",
       "4382   J82094     16966.668402\n",
       "4334   J82034     13671.041531\n",
       "5798   M85063     13549.065237"
      ]
     },
     "execution_count": 67,
     "metadata": {},
     "output_type": "execute_result"
    }
   ],
   "source": [
    "top_10.sort_values('top_savings_sum', ascending=False).head(5)"
   ]
  },
  {
   "cell_type": "code",
   "execution_count": 39,
   "metadata": {
    "autoscroll": "json-false",
    "collapsed": false,
    "ein.tags": [
     "worksheet-0"
    ],
    "slideshow": {
     "slide_type": "-"
    }
   },
   "outputs": [
    {
     "data": {
      "image/png": "[encoded data removed]",
      "text/plain": [
       "<matplotlib.figure.Figure at 0x7f935d7b7950>"
      ]
     },
     "metadata": {},
     "output_type": "display_data"
    }
   ],
   "source": [
    "sns.distplot(top_10.top_savings_sum)\n",
    "plt.title(\"Distribution of sum of top 10 savings by practice\")\n",
    "plt.show()"
   ]
  },
  {
   "cell_type": "code",
   "execution_count": 40,
   "metadata": {
    "autoscroll": "json-false",
    "collapsed": false,
    "ein.tags": [
     "worksheet-0"
    ],
    "slideshow": {
     "slide_type": "-"
    }
   },
   "outputs": [
    {
     "data": {
      "image/png": "[encoded data removed]",
      "text/plain": [
       "<matplotlib.figure.Figure at 0x7f935c1f3a50>"
      ]
     },
     "metadata": {},
     "output_type": "display_data"
    }
   ],
   "source": [
    "asd = top_10[top_10.top_savings_sum < top_10.top_savings_sum.quantile(.95)]\n",
    "g = sns.distplot(asd.top_savings_sum)\n",
    "plt.title(\"Distribution of sum of top 10 savings by practice, 95th percentile\")\n",
    "plt.show()"
   ]
  },
  {
   "cell_type": "markdown",
   "metadata": {},
   "source": [
    "## Same thing, by CCG"
   ]
  },
  {
   "cell_type": "code",
   "execution_count": 41,
   "metadata": {
    "autoscroll": "json-false",
    "collapsed": false,
    "ein.tags": [
     "worksheet-0"
    ],
    "slideshow": {
     "slide_type": "-"
    }
   },
   "outputs": [],
   "source": [
    "reload(price_utils)\n",
    "top_10_pct = price_utils.top_savings_per_entity(top_n=10, entity='pct')"
   ]
  },
  {
   "cell_type": "code",
   "execution_count": 42,
   "metadata": {
    "autoscroll": "json-false",
    "collapsed": false,
    "ein.tags": [
     "worksheet-0"
    ],
    "slideshow": {
     "slide_type": "-"
    }
   },
   "outputs": [
    {
     "data": {
      "text/html": [
       "<div>\n",
       "<table border=\"1\" class=\"dataframe\">\n",
       "  <thead>\n",
       "    <tr style=\"text-align: right;\">\n",
       "      <th></th>\n",
       "      <th>top_savings_sum</th>\n",
       "    </tr>\n",
       "  </thead>\n",
       "  <tbody>\n",
       "    <tr>\n",
       "      <th>count</th>\n",
       "      <td>213.00</td>\n",
       "    </tr>\n",
       "    <tr>\n",
       "      <th>mean</th>\n",
       "      <td>40,915.60</td>\n",
       "    </tr>\n",
       "    <tr>\n",
       "      <th>std</th>\n",
       "      <td>22,779.51</td>\n",
       "    </tr>\n",
       "    <tr>\n",
       "      <th>min</th>\n",
       "      <td>42.77</td>\n",
       "    </tr>\n",
       "    <tr>\n",
       "      <th>25%</th>\n",
       "      <td>25,620.72</td>\n",
       "    </tr>\n",
       "    <tr>\n",
       "      <th>50%</th>\n",
       "      <td>36,276.98</td>\n",
       "    </tr>\n",
       "    <tr>\n",
       "      <th>75%</th>\n",
       "      <td>48,537.48</td>\n",
       "    </tr>\n",
       "    <tr>\n",
       "      <th>max</th>\n",
       "      <td>142,077.13</td>\n",
       "    </tr>\n",
       "  </tbody>\n",
       "</table>\n",
       "</div>"
      ],
      "text/plain": [
       "       top_savings_sum\n",
       "count           213.00\n",
       "mean         40,915.60\n",
       "std          22,779.51\n",
       "min              42.77\n",
       "25%          25,620.72\n",
       "50%          36,276.98\n",
       "75%          48,537.48\n",
       "max         142,077.13"
      ]
     },
     "execution_count": 42,
     "metadata": {},
     "output_type": "execute_result"
    }
   ],
   "source": [
    "top_10_pct.describe()"
   ]
  },
  {
   "cell_type": "code",
   "execution_count": 43,
   "metadata": {
    "autoscroll": "json-false",
    "collapsed": false,
    "ein.tags": [
     "worksheet-0"
    ],
    "slideshow": {
     "slide_type": "-"
    }
   },
   "outputs": [
    {
     "data": {
      "image/png": "[encoded data removed]",
      "text/plain": [
       "<matplotlib.figure.Figure at 0x7f935c49b5d0>"
      ]
     },
     "metadata": {},
     "output_type": "display_data"
    }
   ],
   "source": [
    "sns.distplot(top_10_pct.top_savings_sum)\n",
    "plt.title(\"Distribution of sum of top 10 savings by CCG\")\n",
    "plt.show()"
   ]
  },
  {
   "cell_type": "code",
   "execution_count": 44,
   "metadata": {
    "autoscroll": "json-false",
    "collapsed": false,
    "ein.tags": [
     "worksheet-0"
    ],
    "slideshow": {
     "slide_type": "-"
    }
   },
   "outputs": [],
   "source": [
    "reload(price_utils)\n",
    "top_1000_product = price_utils.get_savings(group_by='product', month=month, limit=1000)\n"
   ]
  },
  {
   "cell_type": "code",
   "execution_count": 45,
   "metadata": {
    "autoscroll": "json-false",
    "collapsed": false,
    "ein.tags": [
     "worksheet-0"
    ],
    "scrolled": true,
    "slideshow": {
     "slide_type": "-"
    }
   },
   "outputs": [
    {
     "data": {
      "text/html": [
       "<div>\n",
       "<table border=\"1\" class=\"dataframe\">\n",
       "  <thead>\n",
       "    <tr style=\"text-align: right;\">\n",
       "      <th></th>\n",
       "      <th>bnf_presentation</th>\n",
       "      <th>bnf_chemical</th>\n",
       "      <th>category</th>\n",
       "      <th>avg_brand_count_per_practice</th>\n",
       "      <th>lowest_decile</th>\n",
       "      <th>quantity</th>\n",
       "      <th>price_per_dose</th>\n",
       "      <th>possible_savings</th>\n",
       "      <th>formulation_swap</th>\n",
       "      <th>num_pack_sizes</th>\n",
       "      <th>flag_imported</th>\n",
       "      <th>flag_broken_bulk</th>\n",
       "      <th>flag_non_bioequivalence</th>\n",
       "      <th>flag_special_containers</th>\n",
       "    </tr>\n",
       "    <tr>\n",
       "      <th>bnf_code</th>\n",
       "      <th></th>\n",
       "      <th></th>\n",
       "      <th></th>\n",
       "      <th></th>\n",
       "      <th></th>\n",
       "      <th></th>\n",
       "      <th></th>\n",
       "      <th></th>\n",
       "      <th></th>\n",
       "      <th></th>\n",
       "      <th></th>\n",
       "      <th></th>\n",
       "      <th></th>\n",
       "      <th></th>\n",
       "    </tr>\n",
       "  </thead>\n",
       "  <tbody>\n",
       "    <tr>\n",
       "      <th>1404000H0AAAFAF</th>\n",
       "      <td>Influenza_Vac Inact 0.5ml Pfs</td>\n",
       "      <td>Influenza</td>\n",
       "      <td>NP8</td>\n",
       "      <td>1.10</td>\n",
       "      <td>5.92</td>\n",
       "      <td>2055110</td>\n",
       "      <td>6.62</td>\n",
       "      <td>1,522,419.70</td>\n",
       "      <td>NaN</td>\n",
       "      <td>3.00</td>\n",
       "      <td>nan</td>\n",
       "      <td>None</td>\n",
       "      <td>nan</td>\n",
       "      <td>1.00</td>\n",
       "    </tr>\n",
       "    <tr>\n",
       "      <th>0601060D0AAA0A0</th>\n",
       "      <td>Glucose Blood Testing Reagents</td>\n",
       "      <td>Glucose Blood Testing Reagents</td>\n",
       "      <td>NP8</td>\n",
       "      <td>12.05</td>\n",
       "      <td>0.25</td>\n",
       "      <td>57333666</td>\n",
       "      <td>0.26</td>\n",
       "      <td>1,043,779.81</td>\n",
       "      <td>NaN</td>\n",
       "      <td>nan</td>\n",
       "      <td>nan</td>\n",
       "      <td>None</td>\n",
       "      <td>nan</td>\n",
       "      <td>nan</td>\n",
       "    </tr>\n",
       "    <tr>\n",
       "      <th>0302000N0AABGBG</th>\n",
       "      <td>Fluticasone/Salmeterol_Inh 250/25mcg120D</td>\n",
       "      <td>Fluticasone Propionate (Inh)</td>\n",
       "      <td>C</td>\n",
       "      <td>2.06</td>\n",
       "      <td>52.05</td>\n",
       "      <td>158950</td>\n",
       "      <td>56.59</td>\n",
       "      <td>809,566.81</td>\n",
       "      <td>NaN</td>\n",
       "      <td>3.00</td>\n",
       "      <td>nan</td>\n",
       "      <td>None</td>\n",
       "      <td>nan</td>\n",
       "      <td>1.00</td>\n",
       "    </tr>\n",
       "    <tr>\n",
       "      <th>0403040W0AAAEAE</th>\n",
       "      <td>Venlafaxine_Cap 150mg M/R</td>\n",
       "      <td>Venlafaxine</td>\n",
       "      <td>C</td>\n",
       "      <td>1.49</td>\n",
       "      <td>0.38</td>\n",
       "      <td>2668261</td>\n",
       "      <td>0.65</td>\n",
       "      <td>639,892.88</td>\n",
       "      <td>Cap  / Tab</td>\n",
       "      <td>3.00</td>\n",
       "      <td>nan</td>\n",
       "      <td>None</td>\n",
       "      <td>nan</td>\n",
       "      <td>nan</td>\n",
       "    </tr>\n",
       "    <tr>\n",
       "      <th>0302000K0AAAMAM</th>\n",
       "      <td>Budesonide/Formoterol Inh B/A 200/6(120D</td>\n",
       "      <td>Budesonide</td>\n",
       "      <td>C</td>\n",
       "      <td>2.20</td>\n",
       "      <td>33.98</td>\n",
       "      <td>225338</td>\n",
       "      <td>36.74</td>\n",
       "      <td>627,801.21</td>\n",
       "      <td>NaN</td>\n",
       "      <td>3.00</td>\n",
       "      <td>nan</td>\n",
       "      <td>None</td>\n",
       "      <td>nan</td>\n",
       "      <td>1.00</td>\n",
       "    </tr>\n",
       "  </tbody>\n",
       "</table>\n",
       "</div>"
      ],
      "text/plain": [
       "                                         bnf_presentation  \\\n",
       "bnf_code                                                    \n",
       "1404000H0AAAFAF             Influenza_Vac Inact 0.5ml Pfs   \n",
       "0601060D0AAA0A0            Glucose Blood Testing Reagents   \n",
       "0302000N0AABGBG  Fluticasone/Salmeterol_Inh 250/25mcg120D   \n",
       "0403040W0AAAEAE                 Venlafaxine_Cap 150mg M/R   \n",
       "0302000K0AAAMAM  Budesonide/Formoterol Inh B/A 200/6(120D   \n",
       "\n",
       "                                   bnf_chemical category  \\\n",
       "bnf_code                                                   \n",
       "1404000H0AAAFAF                       Influenza      NP8   \n",
       "0601060D0AAA0A0  Glucose Blood Testing Reagents      NP8   \n",
       "0302000N0AABGBG    Fluticasone Propionate (Inh)        C   \n",
       "0403040W0AAAEAE                     Venlafaxine        C   \n",
       "0302000K0AAAMAM                      Budesonide        C   \n",
       "\n",
       "                 avg_brand_count_per_practice  lowest_decile  quantity  \\\n",
       "bnf_code                                                                 \n",
       "1404000H0AAAFAF                          1.10           5.92   2055110   \n",
       "0601060D0AAA0A0                         12.05           0.25  57333666   \n",
       "0302000N0AABGBG                          2.06          52.05    158950   \n",
       "0403040W0AAAEAE                          1.49           0.38   2668261   \n",
       "0302000K0AAAMAM                          2.20          33.98    225338   \n",
       "\n",
       "                 price_per_dose  possible_savings formulation_swap  \\\n",
       "bnf_code                                                             \n",
       "1404000H0AAAFAF            6.62      1,522,419.70              NaN   \n",
       "0601060D0AAA0A0            0.26      1,043,779.81              NaN   \n",
       "0302000N0AABGBG           56.59        809,566.81              NaN   \n",
       "0403040W0AAAEAE            0.65        639,892.88      Cap  / Tab    \n",
       "0302000K0AAAMAM           36.74        627,801.21              NaN   \n",
       "\n",
       "                 num_pack_sizes  flag_imported flag_broken_bulk  \\\n",
       "bnf_code                                                          \n",
       "1404000H0AAAFAF            3.00            nan             None   \n",
       "0601060D0AAA0A0             nan            nan             None   \n",
       "0302000N0AABGBG            3.00            nan             None   \n",
       "0403040W0AAAEAE            3.00            nan             None   \n",
       "0302000K0AAAMAM            3.00            nan             None   \n",
       "\n",
       "                 flag_non_bioequivalence  flag_special_containers  \n",
       "bnf_code                                                           \n",
       "1404000H0AAAFAF                      nan                     1.00  \n",
       "0601060D0AAA0A0                      nan                      nan  \n",
       "0302000N0AABGBG                      nan                     1.00  \n",
       "0403040W0AAAEAE                      nan                      nan  \n",
       "0302000K0AAAMAM                      nan                     1.00  "
      ]
     },
     "execution_count": 45,
     "metadata": {},
     "output_type": "execute_result"
    }
   ],
   "source": [
    "top_1000_product.head(5)\n"
   ]
  },
  {
   "cell_type": "markdown",
   "metadata": {},
   "source": [
    "## What if every practice enacted all its top 3 savings?\n",
    "\n",
    "The following shows that there would be £11m of savings, including: £3.4m on blood test strips, £1.1m on vaccines, £1.2m on Fluticasone/Salmeterol inhalers, and £600k on Pregabalin"
   ]
  },
  {
   "cell_type": "code",
   "execution_count": 46,
   "metadata": {
    "autoscroll": "json-false",
    "collapsed": false,
    "ein.tags": [
     "worksheet-0"
    ],
    "slideshow": {
     "slide_type": "-"
    }
   },
   "outputs": [],
   "source": [
    "reload(price_utils)\n",
    "# A list of all the generic presentations in the top three savings for each practice\n",
    "df = price_utils.all_presentations_in_per_entity_top_n(top_n=3, entity='practice', month='2016-09-01')"
   ]
  },
  {
   "cell_type": "code",
   "execution_count": 47,
   "metadata": {
    "autoscroll": "json-false",
    "collapsed": false,
    "ein.tags": [
     "worksheet-0"
    ],
    "slideshow": {
     "slide_type": "-"
    }
   },
   "outputs": [
    {
     "data": {
      "text/plain": [
       "8005429.8248444144"
      ]
     },
     "execution_count": 47,
     "metadata": {},
     "output_type": "execute_result"
    }
   ],
   "source": [
    "# Total savings if each practice enacted its top three savings\n",
    "df.top_savings_sum.sum()"
   ]
  },
  {
   "cell_type": "code",
   "execution_count": 48,
   "metadata": {
    "autoscroll": "json-false",
    "collapsed": false,
    "ein.tags": [
     "worksheet-0"
    ],
    "slideshow": {
     "slide_type": "-"
    }
   },
   "outputs": [
    {
     "data": {
      "text/plain": [
       "presentation\n",
       "Influenza_Vac Inact 0.5ml Pfs              1,248,087.89\n",
       "Glucose Blood Testing Reagents               653,892.81\n",
       "Fluticasone/Salmeterol_Inh 250/25mcg120D     326,968.99\n",
       "Co-Proxamol_Tab 32.5mg/325mg                 218,023.28\n",
       "Lamotrigine_Tab 100mg                        204,093.73\n",
       "Name: top_savings_sum, dtype: float64"
      ]
     },
     "execution_count": 48,
     "metadata": {},
     "output_type": "execute_result"
    }
   ],
   "source": [
    "# The top savings by presentation if each practice enacted its top three savings\n",
    "by_presentation = df.groupby('presentation').top_savings_sum.sum().sort_values(inplace=False, ascending=False)\n",
    "by_presentation.head()"
   ]
  },
  {
   "cell_type": "code",
   "execution_count": 49,
   "metadata": {
    "autoscroll": "json-false",
    "collapsed": false,
    "ein.tags": [
     "worksheet-0"
    ],
    "slideshow": {
     "slide_type": "-"
    }
   },
   "outputs": [
    {
     "data": {
      "text/plain": [
       "chemical\n",
       "Influenza                              1,248,087.89\n",
       "Glucose Blood Testing Reagents           653,892.81\n",
       "Levetiracetam                            467,345.08\n",
       "Lamotrigine                              400,015.67\n",
       "Fluticasone Propionate (Inh)             357,933.49\n",
       "Colecalciferol                           272,246.74\n",
       "Venlafaxine                              255,845.48\n",
       "Co-Proxamol (Dextroprop HCl/Paracet)     218,286.56\n",
       "Melatonin                                195,446.73\n",
       "Quetiapine                               179,358.28\n",
       "Name: top_savings_sum, dtype: float64"
      ]
     },
     "execution_count": 49,
     "metadata": {},
     "output_type": "execute_result"
    }
   ],
   "source": [
    "# The top savings by chemical if each practice enacted its top three savings\n",
    "by_subpara = df.groupby('chemical').top_savings_sum.sum().sort_values(inplace=False, ascending=False)\n",
    "by_subpara.head(10)"
   ]
  },
  {
   "cell_type": "markdown",
   "metadata": {},
   "source": [
    "### And just its top 1 saving?\n",
    "£4 million of savings, mostly on blood testing strips."
   ]
  },
  {
   "cell_type": "code",
   "execution_count": 50,
   "metadata": {
    "autoscroll": "json-false",
    "collapsed": false,
    "ein.tags": [
     "worksheet-0"
    ],
    "slideshow": {
     "slide_type": "-"
    }
   },
   "outputs": [],
   "source": [
    "reload(price_utils)\n",
    "# A list of all the generic presentations in the top one savings for each practice\n",
    "df2 = price_utils.all_presentations_in_per_entity_top_n(top_n=1, entity='practice', month='2016-09-01')"
   ]
  },
  {
   "cell_type": "code",
   "execution_count": 51,
   "metadata": {
    "autoscroll": "json-false",
    "collapsed": false,
    "ein.tags": [
     "worksheet-0"
    ],
    "slideshow": {
     "slide_type": "-"
    }
   },
   "outputs": [
    {
     "data": {
      "text/plain": [
       "4053973.1634699339"
      ]
     },
     "execution_count": 51,
     "metadata": {},
     "output_type": "execute_result"
    }
   ],
   "source": [
    "df2.top_savings_sum.sum()"
   ]
  },
  {
   "cell_type": "code",
   "execution_count": 52,
   "metadata": {
    "autoscroll": "json-false",
    "collapsed": false,
    "ein.tags": [
     "worksheet-0"
    ],
    "slideshow": {
     "slide_type": "-"
    }
   },
   "outputs": [
    {
     "data": {
      "text/plain": [
       "chemical\n",
       "Influenza                              872,999.58\n",
       "Glucose Blood Testing Reagents         286,237.36\n",
       "Levetiracetam                          167,526.91\n",
       "Colecalciferol                         161,614.67\n",
       "Co-Proxamol (Dextroprop HCl/Paracet)   154,986.86\n",
       "Lamotrigine                            151,070.72\n",
       "Dalteparin Sodium                      140,174.34\n",
       "Melatonin                              106,998.08\n",
       "Fluticasone Propionate (Inh)            99,458.51\n",
       "Venlafaxine                             83,735.83\n",
       "Name: top_savings_sum, dtype: float64"
      ]
     },
     "execution_count": 52,
     "metadata": {},
     "output_type": "execute_result"
    }
   ],
   "source": [
    "# The top savings by chemical if each practice enacted its top saving\n",
    "by_chemical2 = df2.groupby('chemical').top_savings_sum.sum().sort_values(inplace=False, ascending=False)\n",
    "by_chemical2.head(10)"
   ]
  },
  {
   "cell_type": "markdown",
   "metadata": {},
   "source": [
    "### What are unusual top savings?"
   ]
  },
  {
   "cell_type": "markdown",
   "metadata": {},
   "source": [
    "# What are the actions for the top drugs?\n",
    "\n",
    "1. Switch from *Aviva testing strips (Roche Diabetes Care Ltd)* or *Mobile cassette (Roche Diabetes Care Ltd)* or *Contour Next testing strips (Bayer Diagnostics Manufacturing Ltd)* or *FreeStyle Optium testing strips (Abbott Laboratories Ltd)* to *GlucoRx Nexus testing strips (GlucoRx Ltd)* or *WaveSense JAZZ testing strips (AgaMatrix Europe Ltd)*\n",
    "2. Switch from *Seretide 250 Evohaler* to *Sirdupla 25micrograms/dose / 250micrograms/dose inhaler* \n",
    "3. Switch from *Fluarix Tetra vaccine suspension for injection 0.5ml pre-filled syringes* to *Influvac Sub-unit vaccine suspension for injection 0.5ml pre-filled syringes*\n",
    "4. Switch from *Lyrica 75mg capsules* to *Alzain 75mg capsules*\n",
    "5. Switch from *Symbicort 200/6 Turbohaler* to *DuoResp Spiromax 160micrograms/dose / 4.5micrograms/dose dry powder inhaler*\n",
    "\n",
    "## What reasons are there for not switching?\n",
    "\n",
    "There are a number of costs relating to switching, including:\n",
    "\n",
    "* With device-based drugs, patients require training in new devices\n",
    "* Patients are reluctant to accept change when they perceive a certain brand as working\n",
    "* GPs are reluctant to accept change when they see it as continuous background pressure (e.g. moving targets, ever-cheaper products becoming available)\n",
    "* (Possibly unfounded) views among HCPs that alternatives are not clinincally equivalent or at least comparable (e.g. tetravalent vs trivalent vaccines; different glucose meters)\n",
    "* Drugs in category M which are not yet licenced for all uses (e.g. Pregabalin)\n"
   ]
  },
  {
   "cell_type": "markdown",
   "metadata": {},
   "source": [
    "## What if practices only enacted cost savings that were at least £1000?\n",
    "\n",
    "There would still be £3m of savings. Plotting total savings against a minimum threshold shows something close to an exponential dropoff (the closest fit is a 4PL curve with the inflection point relatively close to zero: `y = 2694457 + 35665420*e^(-0.003723744*x)`)"
   ]
  },
  {
   "cell_type": "code",
   "execution_count": 53,
   "metadata": {
    "autoscroll": "json-false",
    "collapsed": false,
    "ein.tags": [
     "worksheet-0"
    ],
    "slideshow": {
     "slide_type": "-"
    }
   },
   "outputs": [
    {
     "data": {
      "text/plain": [
       "{10: 34660180.154420972,\n",
       " 110: 17036379.520410381,\n",
       " 210: 10099491.686985292,\n",
       " 310: 6805120.1687839311,\n",
       " 410: 4916021.642091901,\n",
       " 510: 3760646.821409048,\n",
       " 610: 2969136.2199055143,\n",
       " 710: 2398577.0791196171,\n",
       " 810: 2011993.3460341,\n",
       " 910: 1730405.6307992071,\n",
       " 1010: 1520966.8835880314}"
      ]
     },
     "execution_count": 53,
     "metadata": {},
     "output_type": "execute_result"
    }
   ],
   "source": [
    "d = {}\n",
    "for threshold in [10, 110, 210, 310, 410, 510, 610, 710, 810, 910, 1010]:\n",
    "    d[threshold] = price_utils.cost_savings_at_minimum_for_practice(threshold, month='2016-09-01').top_savings_sum.sum()\n",
    "d"
   ]
  },
  {
   "cell_type": "code",
   "execution_count": 69,
   "metadata": {
    "collapsed": false
   },
   "outputs": [
    {
     "name": "stdout",
     "output_type": "stream",
     "text": [
      "SELECT\n",
      "  bnf.presentation,\n",
      "  bnf.chemical,\n",
      "  savings.presentations.pct AS pct,\n",
      "  savings.generic_presentation AS generic_presentation,\n",
      "  savings.category AS category,\n",
      "  savings.avg_brand_count_per_practice AS avg_brand_count_per_practice,\n",
      "  savings.deciles.lowest_decile AS lowest_decile,\n",
      "  savings.quantity AS quantity,\n",
      "  savings.price_per_dose AS price_per_dose,\n",
      "  savings.possible_savings AS possible_savings\n",
      "FROM (\n",
      "  SELECT\n",
      "      presentations.pct, \n",
      "      generic_presentation,\n",
      "      deciles.lowest_decile,\n",
      "      AVG(brand_count) AS avg_brand_count_per_practice,\n",
      "      MAX(category) AS category,\n",
      "      SUM(quantity) AS quantity,\n",
      "      AVG(price_per_dose) AS price_per_dose,\n",
      "      SUM(possible_savings) AS possible_savings\n",
      "    FROM (\n",
      "    -- Always select per-practice initially, so we can apply \"diode\"\n",
      "    -- to exclude negative cost savings\n",
      "    SELECT\n",
      "      presentations.practice,\n",
      "      presentations.pct,\n",
      "      presentations.generic_presentation AS generic_presentation,\n",
      "      COUNT(DISTINCT bnf_code) AS brand_count,\n",
      "      MAX(presentations.category) AS category,\n",
      "      deciles.lowest_decile,\n",
      "      SUM(presentations.quantity) AS quantity,\n",
      "      SUM(presentations.net_cost)/SUM(presentations.quantity) AS price_per_dose,\n",
      "      GREATEST((SUM(presentations.net_cost) - (SUM(presentations.quantity) * deciles.lowest_decile)), 0) AS possible_savings -- the \"diode\"\n",
      "    FROM (\n",
      "      SELECT\n",
      "        *\n",
      "      FROM (\n",
      "          -- Create table for joining individual data\n",
      "        SELECT\n",
      "          practice,\n",
      "          pct,\n",
      "          p.bnf_code AS bnf_code,\n",
      "          t.category AS category,\n",
      "          IF(\n",
      "            LENGTH(RTRIM(p.bnf_code)) = 15 -- excludes devices etc\n",
      "              AND (\n",
      "                SUBSTR(p.bnf_code, 14, 15) != 'A0' -- excludes things without generic equivalents\n",
      "                OR SUBSTR(p.bnf_code, 1, 9) == '0601060U0' OR SUBSTR(p.bnf_code, 1, 9) == '0601060D0'), -- unless they're one of our two exceptions -- see issue #1\n",
      "            CONCAT(SUBSTR(p.bnf_code, 1, 9), 'AA', SUBSTR(p.bnf_code, 14, 2), SUBSTR(p.bnf_code, 14, 2)),\n",
      "            NULL) AS generic_presentation,\n",
      "          net_cost,\n",
      "          quantity\n",
      "        FROM\n",
      "          ebmdatalab.hscic.prescribing_with_merged_codes_2016_09_01 AS p\n",
      "        LEFT JOIN ebmdatalab.hscic.tariff t\n",
      "          ON p.bnf_code = t.bnf_code\n",
      "        LEFT JOIN ebmdatalab.hscic.practices practices\n",
      "          ON p.practice = practices.code\n",
      "        WHERE\n",
      "          practices.setting = 4 AND\n",
      "          month = TIMESTAMP(\"2016-09-01\")\n",
      "          AND LENGTH(RTRIM(p.bnf_code)) >= 15 AND p.bnf_code NOT LIKE '0302000C0____BE' AND p.bnf_code NOT LIKE '0302000C0____BF' AND p.bnf_code NOT LIKE '0302000C0____BH' AND p.bnf_code NOT LIKE '0302000C0____BG' AND p.bnf_code NOT LIKE '0904010H0%' AND p.bnf_code NOT LIKE '0904010H0%' AND p.bnf_code NOT LIKE '1311070S0A____AA' AND p.bnf_code NOT LIKE '1311020L0____BS' AND p.bnf_code NOT LIKE '0301020S0____AA' AND p.bnf_code NOT LIKE '190700000BBCJA0' AND p.bnf_code NOT LIKE '0604011L0BGAAAH' AND p.bnf_code NOT LIKE '1502010J0____BY' AND p.bnf_code NOT LIKE '1201010F0AAAAAA' AND p.bnf_code NOT LIKE '0107010S0AAAGAG' AND p.bnf_code NOT LIKE '060106000BBAAA0' AND p.bnf_code NOT LIKE '190201000AABJBJ' AND p.bnf_code NOT LIKE '190201000AABKBK' AND p.bnf_code NOT LIKE '190201000AABLBL' AND p.bnf_code NOT LIKE '190201000AABMBM' AND p.bnf_code NOT LIKE '190201000AABNBN' AND p.bnf_code NOT LIKE '190202000AAADAD' \n",
      "          ) ) presentations\n",
      "    JOIN (\n",
      "        -- Calculate the top decile of price per dose for each generic presentation\n",
      "      SELECT\n",
      "        generic_presentation,\n",
      "        MAX(lowest_decile) AS lowest_decile\n",
      "      FROM (\n",
      "        SELECT\n",
      "          generic_presentation,\n",
      "          PERCENTILE_CONT(0.1) OVER (PARTITION BY generic_presentation ORDER BY price_per_dose ASC) AS lowest_decile\n",
      "        FROM (\n",
      "            -- Calculate price per dose for each presentation, normalising the codes across brands/generics\n",
      "          SELECT\n",
      "            IF(\n",
      "              LENGTH(RTRIM(p.bnf_code)) = 15 -- excludes devices etc\n",
      "                AND (\n",
      "                  SUBSTR(bnf_code, 14, 15) != 'A0' -- excludes things without generic equivalents\n",
      "                  OR SUBSTR(bnf_code, 1, 9) == '0601060U0' OR SUBSTR(bnf_code, 1, 9) == '0601060D0'), -- unless they're one of our two exceptions -- see issue #1\n",
      "              CONCAT(SUBSTR(bnf_code, 1, 9), 'AA', SUBSTR(bnf_code, 14, 2), SUBSTR(bnf_code, 14, 2)),\n",
      "              NULL) AS generic_presentation,\n",
      "            AVG(net_cost/quantity) AS price_per_dose\n",
      "          FROM\n",
      "            ebmdatalab.hscic.prescribing_with_merged_codes_2016_09_01 AS p\n",
      "          LEFT JOIN ebmdatalab.hscic.practices practices\n",
      "            ON p.practice = practices.code\n",
      "          WHERE\n",
      "            practices.setting = 4 AND\n",
      "            month = TIMESTAMP(\"2016-09-01\")\n",
      "            AND LENGTH(RTRIM(p.bnf_code)) >= 15 AND p.bnf_code NOT LIKE '0302000C0____BE' AND p.bnf_code NOT LIKE '0302000C0____BF' AND p.bnf_code NOT LIKE '0302000C0____BH' AND p.bnf_code NOT LIKE '0302000C0____BG' AND p.bnf_code NOT LIKE '0904010H0%' AND p.bnf_code NOT LIKE '0904010H0%' AND p.bnf_code NOT LIKE '1311070S0A____AA' AND p.bnf_code NOT LIKE '1311020L0____BS' AND p.bnf_code NOT LIKE '0301020S0____AA' AND p.bnf_code NOT LIKE '190700000BBCJA0' AND p.bnf_code NOT LIKE '0604011L0BGAAAH' AND p.bnf_code NOT LIKE '1502010J0____BY' AND p.bnf_code NOT LIKE '1201010F0AAAAAA' AND p.bnf_code NOT LIKE '0107010S0AAAGAG' AND p.bnf_code NOT LIKE '060106000BBAAA0' AND p.bnf_code NOT LIKE '190201000AABJBJ' AND p.bnf_code NOT LIKE '190201000AABKBK' AND p.bnf_code NOT LIKE '190201000AABLBL' AND p.bnf_code NOT LIKE '190201000AABMBM' AND p.bnf_code NOT LIKE '190201000AABNBN' AND p.bnf_code NOT LIKE '190202000AAADAD' \n",
      "          GROUP BY practice, generic_presentation)\n",
      "          )\n",
      "      WHERE generic_presentation IS NOT NULL\n",
      "      GROUP BY\n",
      "        generic_presentation) deciles\n",
      "    ON\n",
      "      deciles.generic_presentation = presentations.generic_presentation\n",
      "    GROUP BY\n",
      "      presentations.practice,\n",
      "      presentations.pct,\n",
      "      generic_presentation,\n",
      "      deciles.lowest_decile\n",
      "  )\n",
      "\n",
      "  GROUP BY\n",
      "    generic_presentation,\n",
      "    deciles.lowest_decile,\n",
      "    presentations.pct, \n",
      "    \n",
      "    \n",
      ") savings\n",
      "LEFT JOIN\n",
      "  (SELECT\n",
      "    *\n",
      "  FROM ebmdatalab.hscic.bnf, (\n",
      "    SELECT\n",
      "      'Glucose Blood Testing Reagents' AS presentation,\n",
      "      'Glucose Blood Testing Reagents' AS chemical,\n",
      "      '0601060D0AAA0A0' AS presentation_code),\n",
      "    (\n",
      "    SELECT\n",
      "      'Urine Testing Reagents' AS presentation,\n",
      "      'Urine Testing Reagents' AS chemical,\n",
      "      '0601060U0AAA0A0' AS presentation_code)) bnf\n",
      "ON\n",
      "  bnf.presentation_code = savings.generic_presentation\n",
      "\n"
     ]
    }
   ],
   "source": [
    "print price_utils.get_savings(group_by='pct', limit=None, sql_only=True, month=month, order_by_savings=False, namespace='hscic', prescribing_table='prescribing')"
   ]
  },
  {
   "cell_type": "code",
   "execution_count": 54,
   "metadata": {
    "autoscroll": "json-false",
    "collapsed": false,
    "ein.tags": [
     "worksheet-0"
    ],
    "slideshow": {
     "slide_type": "-"
    }
   },
   "outputs": [
    {
     "data": {
      "text/plain": [
       "<matplotlib.axes._subplots.AxesSubplot at 0x7f935c7e44d0>"
      ]
     },
     "execution_count": 54,
     "metadata": {},
     "output_type": "execute_result"
    },
    {
     "data": {
      "image/png": "[encoded data removed]",
      "text/plain": [
       "<matplotlib.figure.Figure at 0x7f935c7e4e50>"
      ]
     },
     "metadata": {},
     "output_type": "display_data"
    }
   ],
   "source": [
    "pd.options.display.float_format = None\n",
    "asd = pd.DataFrame(d.items())\n",
    "asd.columns = ['threshold', 'sum']\n",
    "s = asd.sort_values('threshold')\n",
    "s.plot(x='threshold', y='sum')"
   ]
  },
  {
   "cell_type": "markdown",
   "metadata": {
    "ein.tags": [
     "worksheet-0"
    ],
    "slideshow": {
     "slide_type": "-"
    }
   },
   "source": [
    "## Visualising distributions of drug prices"
   ]
  },
  {
   "cell_type": "markdown",
   "metadata": {},
   "source": [
    "### 1. Drugs with the greatest saving potential"
   ]
  },
  {
   "cell_type": "code",
   "execution_count": 56,
   "metadata": {
    "collapsed": false
   },
   "outputs": [
    {
     "data": {
      "image/png": "[encoded data removed]",
      "text/plain": [
       "<matplotlib.figure.Figure at 0x7f935d7b87d0>"
      ]
     },
     "metadata": {},
     "output_type": "display_data"
    },
    {
     "data": {
      "image/png": "[encoded data removed]",
      "text/plain": [
       "<matplotlib.figure.Figure at 0x7f92de6c0490>"
      ]
     },
     "metadata": {},
     "output_type": "display_data"
    },
    {
     "data": {
      "image/png": "[encoded data removed]",
      "text/plain": [
       "<matplotlib.figure.Figure at 0x7f92d40f32d0>"
      ]
     },
     "metadata": {},
     "output_type": "display_data"
    },
    {
     "data": {
      "image/png": "[encoded data removed]",
      "text/plain": [
       "<matplotlib.figure.Figure at 0x7f92d0ded490>"
      ]
     },
     "metadata": {},
     "output_type": "display_data"
    },
    {
     "name": "stderr",
     "output_type": "stream",
     "text": [
      "/usr/local/lib/python2.7/dist-packages/statsmodels/nonparametric/kde.py:494: RuntimeWarning: invalid value encountered in divide\n",
      "  binned = fast_linbin(X,a,b,gridsize)/(delta*nobs)\n",
      "/usr/local/lib/python2.7/dist-packages/statsmodels/nonparametric/kdetools.py:32: RuntimeWarning: invalid value encountered in double_scalars\n",
      "  FAC1 = 2*(np.pi*bw/RANGE)**2\n"
     ]
    },
    {
     "data": {
      "image/png": "[encoded data removed]",
      "text/plain": [
       "<matplotlib.figure.Figure at 0x7f9351ff9850>"
      ]
     },
     "metadata": {},
     "output_type": "display_data"
    }
   ],
   "source": [
    "subjects = \"\"\"0601060D0%\tGlucose Blood Testing Reagents\n",
    "0302000N0AABGBG\tFluticasone/Salmeterol_Inh 250/25mcg120D\n",
    "1404000H0AAAFAF\tInfluenza_Vac Inact 0.5ml Pfs\n",
    "0408010AEAAACAC\tPregabalin_Cap 75mg\n",
    "0302000K0AAAMAM\tBudesonide/Formoterol Inh B/A 200/6(120D\"\"\"\n",
    "\n",
    "for subject in subjects.split(\"\\n\"):\n",
    "    code, title = subject.split(\"\\t\", 1)\n",
    "    sql = \"\"\"  SELECT\n",
    "        *\n",
    "      FROM\n",
    "        ebmdatalab.hscic.prescribing_with_merged_codes_2016_09_01\n",
    "      WHERE\n",
    "        bnf_code LIKE '%s'\"\"\" % code\n",
    "    df = pd.io.gbq.read_gbq(\n",
    "        sql, project_id=\"ebmdatalab\", verbose=False, dialect='standard')\n",
    "    df['ppq'] = df['net_cost'] / df['quantity']\n",
    "    df = df.sort_values('ppq')\n",
    "    cheapest = float(df[['quantity', 'net_cost', 'ppq']].head(1)['ppq'].iloc[0])\n",
    "    expensivest = float(df[['quantity', 'net_cost', 'ppq']].tail(1)['ppq'].iloc[0])\n",
    "    ratio = int(expensivest / cheapest)\n",
    "    sns.distplot(df['ppq'], rug=True)\n",
    "    sns.plt.title(\"%s\\nRatio: %s\" % (title, ratio))\n",
    "    sns.plt.show()\n"
   ]
  },
  {
   "cell_type": "markdown",
   "metadata": {},
   "source": [
    "### 2. Some branded drugs that show significant variation "
   ]
  },
  {
   "cell_type": "code",
   "execution_count": 57,
   "metadata": {
    "autoscroll": "json-false",
    "collapsed": false,
    "ein.tags": [
     "worksheet-0"
    ],
    "scrolled": false,
    "slideshow": {
     "slide_type": "-"
    }
   },
   "outputs": [
    {
     "data": {
      "image/png": "[encoded data removed]",
      "text/plain": [
       "<matplotlib.figure.Figure at 0x7f93566becd0>"
      ]
     },
     "metadata": {},
     "output_type": "display_data"
    },
    {
     "data": {
      "image/png": "[encoded data removed]",
      "text/plain": [
       "<matplotlib.figure.Figure at 0x7f935bc9b390>"
      ]
     },
     "metadata": {},
     "output_type": "display_data"
    },
    {
     "data": {
      "image/png": "[encoded data removed]",
      "text/plain": [
       "<matplotlib.figure.Figure at 0x7f9357c51ed0>"
      ]
     },
     "metadata": {},
     "output_type": "display_data"
    },
    {
     "data": {
      "image/png": "[encoded data removed]",
      "text/plain": [
       "<matplotlib.figure.Figure at 0x7f935c4b7fd0>"
      ]
     },
     "metadata": {},
     "output_type": "display_data"
    },
    {
     "data": {
      "image/png": "[encoded data removed]",
      "text/plain": [
       "<matplotlib.figure.Figure at 0x7f93564bc350>"
      ]
     },
     "metadata": {},
     "output_type": "display_data"
    },
    {
     "data": {
      "image/png": "[encoded data removed]",
      "text/plain": [
       "<matplotlib.figure.Figure at 0x7f93583794d0>"
      ]
     },
     "metadata": {},
     "output_type": "display_data"
    },
    {
     "data": {
      "image/png": "[encoded data removed]",
      "text/plain": [
       "<matplotlib.figure.Figure at 0x7f9356441390>"
      ]
     },
     "metadata": {},
     "output_type": "display_data"
    },
    {
     "data": {
      "image/png": "[encoded data removed]",
      "text/plain": [
       "<matplotlib.figure.Figure at 0x7f935d04d310>"
      ]
     },
     "metadata": {},
     "output_type": "display_data"
    },
    {
     "data": {
      "image/png": "[encoded data removed]",
      "text/plain": [
       "<matplotlib.figure.Figure at 0x7f935be4cd10>"
      ]
     },
     "metadata": {},
     "output_type": "display_data"
    }
   ],
   "source": [
    "subjects = \"\"\"0902021S0BBAJAZ\tSodium chloride 0.9% infusion 1litre Viaflex bags (Baxter Healthcare Ltd)\n",
    "1502010J0BEAABY\tEmla 5% cream (AstraZeneca UK Ltd)\n",
    "0401010ADBCBZBP\tBio-Melatonin 3mg tablets (Imported (Denmark))\n",
    "0902021X0BGACAZ\tWater for infusion 1litre Viaflo bags (Baxter Healthcare Ltd)\n",
    "0902021S0BBAXAY\tSodium chloride 0.9% infusion 500ml Viaflo bags (Baxter Healthcare Ltd)\n",
    "0604030Q0BBAFAI\tDHEA 25mg tablets (Imported (United States))\n",
    "0602010Z0BEABAJ\tErfa Thyroid 60mg (1 grain) tablets (Imported (Canada))\n",
    "0407020A0BPAABN\tPecFent 100micrograms/dose nasal spray (Kyowa Kirin Ltd)\n",
    "1302010N0BDAAAA\tVaseline Pure Petroleum jelly (Unilever UK Home & Personal Care)\"\"\"\n",
    "\n",
    "for subject in subjects.split(\"\\n\"):\n",
    "    code, title = subject.split(\"\\t\", 1)\n",
    "    sql = \"\"\"  SELECT\n",
    "        *\n",
    "      FROM\n",
    "        ebmdatalab.hscic.prescribing_with_merged_codes_2016_09_01\n",
    "      WHERE\n",
    "        bnf_code = '%s'\"\"\" % code\n",
    "    df = pd.io.gbq.read_gbq(\n",
    "        sql, project_id=\"ebmdatalab\", verbose=False, dialect='standard')\n",
    "    df['ppq'] = df['net_cost'] / df['quantity']\n",
    "    df = df.sort_values('ppq')\n",
    "    cheapest = float(df[['quantity', 'net_cost', 'ppq']].head(1)['ppq'].iloc[0])\n",
    "    expensivest = float(df[['quantity', 'net_cost', 'ppq']].tail(1)['ppq'].iloc[0])\n",
    "    ratio = int(expensivest / cheapest)\n",
    "\n",
    "    sql = \"select MIN(VMPP.QTYVAL) from dmd_product inner join AMP on dmd_product.DMDID = AMP.APID  inner join VMPP on AMP.VPID = VMPP.VPID where BNF_CODE = '%s'\" % code\n",
    "    min_pack_size = int(pd.read_sql_query(sql, con).iloc[0])\n",
    "    dispensed_in_packs = len(df[df.quantity < min_pack_size])\n",
    "    sns.distplot(df['ppq'], rug=True)\n",
    "    sns.plt.title(\"%s\\nRatio: %s, min pack size %s, dispensed in less than pack size: %s\" % (title, ratio, min_pack_size, dispensed_in_packs))\n",
    "    sns.plt.show()\n"
   ]
  },
  {
   "cell_type": "markdown",
   "metadata": {},
   "source": [
    "### 3. Some NP8 drugs identified in our \"scalping\" exercise\n",
    "\n",
    "See [this notebook](https://github.com/ebmdatalab/price-per-dose/blob/master/How%20would%20I%20scalp%20the%20NHS%3F.ipynb) for background"
   ]
  },
  {
   "cell_type": "code",
   "execution_count": 58,
   "metadata": {
    "collapsed": false
   },
   "outputs": [
    {
     "data": {
      "image/png": "[encoded data removed]",
      "text/plain": [
       "<matplotlib.figure.Figure at 0x7f93565cd190>"
      ]
     },
     "metadata": {},
     "output_type": "display_data"
    },
    {
     "data": {
      "image/png": "[encoded data removed]",
      "text/plain": [
       "<matplotlib.figure.Figure at 0x7f92d1fa7390>"
      ]
     },
     "metadata": {},
     "output_type": "display_data"
    },
    {
     "data": {
      "image/png": "[encoded data removed]",
      "text/plain": [
       "<matplotlib.figure.Figure at 0x7f935bc88310>"
      ]
     },
     "metadata": {},
     "output_type": "display_data"
    },
    {
     "data": {
      "image/png": "[encoded data removed]",
      "text/plain": [
       "<matplotlib.figure.Figure at 0x7f92d21665d0>"
      ]
     },
     "metadata": {},
     "output_type": "display_data"
    },
    {
     "data": {
      "image/png": "[encoded data removed]",
      "text/plain": [
       "<matplotlib.figure.Figure at 0x7f935c9927d0>"
      ]
     },
     "metadata": {},
     "output_type": "display_data"
    },
    {
     "data": {
      "image/png": "[encoded data removed]",
      "text/plain": [
       "<matplotlib.figure.Figure at 0x7f93565b5950>"
      ]
     },
     "metadata": {},
     "output_type": "display_data"
    },
    {
     "data": {
      "image/png": "[encoded data removed]",
      "text/plain": [
       "<matplotlib.figure.Figure at 0x7f93596d7650>"
      ]
     },
     "metadata": {},
     "output_type": "display_data"
    },
    {
     "ename": "IndexError",
     "evalue": "single positional indexer is out-of-bounds",
     "output_type": "error",
     "traceback": [
      "\u001b[1;31m---------------------------------------------------------------------------\u001b[0m",
      "\u001b[1;31mIndexError\u001b[0m                                Traceback (most recent call last)",
      "\u001b[1;32m<ipython-input-58-dd78c82f0f31>\u001b[0m in \u001b[0;36m<module>\u001b[1;34m()\u001b[0m\n\u001b[0;32m     24\u001b[0m     \u001b[0mdf\u001b[0m\u001b[1;33m[\u001b[0m\u001b[1;34m'ppq'\u001b[0m\u001b[1;33m]\u001b[0m \u001b[1;33m=\u001b[0m \u001b[0mdf\u001b[0m\u001b[1;33m[\u001b[0m\u001b[1;34m'net_cost'\u001b[0m\u001b[1;33m]\u001b[0m \u001b[1;33m/\u001b[0m \u001b[0mdf\u001b[0m\u001b[1;33m[\u001b[0m\u001b[1;34m'quantity'\u001b[0m\u001b[1;33m]\u001b[0m\u001b[1;33m\u001b[0m\u001b[0m\n\u001b[0;32m     25\u001b[0m     \u001b[0mdf\u001b[0m \u001b[1;33m=\u001b[0m \u001b[0mdf\u001b[0m\u001b[1;33m.\u001b[0m\u001b[0msort_values\u001b[0m\u001b[1;33m(\u001b[0m\u001b[1;34m'ppq'\u001b[0m\u001b[1;33m)\u001b[0m\u001b[1;33m\u001b[0m\u001b[0m\n\u001b[1;32m---> 26\u001b[1;33m     \u001b[0mcheapest\u001b[0m \u001b[1;33m=\u001b[0m \u001b[0mfloat\u001b[0m\u001b[1;33m(\u001b[0m\u001b[0mdf\u001b[0m\u001b[1;33m[\u001b[0m\u001b[1;33m[\u001b[0m\u001b[1;34m'quantity'\u001b[0m\u001b[1;33m,\u001b[0m \u001b[1;34m'net_cost'\u001b[0m\u001b[1;33m,\u001b[0m \u001b[1;34m'ppq'\u001b[0m\u001b[1;33m]\u001b[0m\u001b[1;33m]\u001b[0m\u001b[1;33m.\u001b[0m\u001b[0mhead\u001b[0m\u001b[1;33m(\u001b[0m\u001b[1;36m1\u001b[0m\u001b[1;33m)\u001b[0m\u001b[1;33m[\u001b[0m\u001b[1;34m'ppq'\u001b[0m\u001b[1;33m]\u001b[0m\u001b[1;33m.\u001b[0m\u001b[0miloc\u001b[0m\u001b[1;33m[\u001b[0m\u001b[1;36m0\u001b[0m\u001b[1;33m]\u001b[0m\u001b[1;33m)\u001b[0m\u001b[1;33m\u001b[0m\u001b[0m\n\u001b[0m\u001b[0;32m     27\u001b[0m     \u001b[0mexpensivest\u001b[0m \u001b[1;33m=\u001b[0m \u001b[0mfloat\u001b[0m\u001b[1;33m(\u001b[0m\u001b[0mdf\u001b[0m\u001b[1;33m[\u001b[0m\u001b[1;33m[\u001b[0m\u001b[1;34m'quantity'\u001b[0m\u001b[1;33m,\u001b[0m \u001b[1;34m'net_cost'\u001b[0m\u001b[1;33m,\u001b[0m \u001b[1;34m'ppq'\u001b[0m\u001b[1;33m]\u001b[0m\u001b[1;33m]\u001b[0m\u001b[1;33m.\u001b[0m\u001b[0mtail\u001b[0m\u001b[1;33m(\u001b[0m\u001b[1;36m1\u001b[0m\u001b[1;33m)\u001b[0m\u001b[1;33m[\u001b[0m\u001b[1;34m'ppq'\u001b[0m\u001b[1;33m]\u001b[0m\u001b[1;33m.\u001b[0m\u001b[0miloc\u001b[0m\u001b[1;33m[\u001b[0m\u001b[1;36m0\u001b[0m\u001b[1;33m]\u001b[0m\u001b[1;33m)\u001b[0m\u001b[1;33m\u001b[0m\u001b[0m\n\u001b[0;32m     28\u001b[0m     \u001b[0mratio\u001b[0m \u001b[1;33m=\u001b[0m \u001b[0mint\u001b[0m\u001b[1;33m(\u001b[0m\u001b[0mexpensivest\u001b[0m \u001b[1;33m/\u001b[0m \u001b[0mcheapest\u001b[0m\u001b[1;33m)\u001b[0m\u001b[1;33m\u001b[0m\u001b[0m\n",
      "\u001b[1;32m/home/seb/.virtualenvs/price-per-pill/lib/python2.7/site-packages/pandas/core/indexing.pyc\u001b[0m in \u001b[0;36m__getitem__\u001b[1;34m(self, key)\u001b[0m\n\u001b[0;32m   1309\u001b[0m             \u001b[1;32mreturn\u001b[0m \u001b[0mself\u001b[0m\u001b[1;33m.\u001b[0m\u001b[0m_getitem_tuple\u001b[0m\u001b[1;33m(\u001b[0m\u001b[0mkey\u001b[0m\u001b[1;33m)\u001b[0m\u001b[1;33m\u001b[0m\u001b[0m\n\u001b[0;32m   1310\u001b[0m         \u001b[1;32melse\u001b[0m\u001b[1;33m:\u001b[0m\u001b[1;33m\u001b[0m\u001b[0m\n\u001b[1;32m-> 1311\u001b[1;33m             \u001b[1;32mreturn\u001b[0m \u001b[0mself\u001b[0m\u001b[1;33m.\u001b[0m\u001b[0m_getitem_axis\u001b[0m\u001b[1;33m(\u001b[0m\u001b[0mkey\u001b[0m\u001b[1;33m,\u001b[0m \u001b[0maxis\u001b[0m\u001b[1;33m=\u001b[0m\u001b[1;36m0\u001b[0m\u001b[1;33m)\u001b[0m\u001b[1;33m\u001b[0m\u001b[0m\n\u001b[0m\u001b[0;32m   1312\u001b[0m \u001b[1;33m\u001b[0m\u001b[0m\n\u001b[0;32m   1313\u001b[0m     \u001b[1;32mdef\u001b[0m \u001b[0m_getitem_axis\u001b[0m\u001b[1;33m(\u001b[0m\u001b[0mself\u001b[0m\u001b[1;33m,\u001b[0m \u001b[0mkey\u001b[0m\u001b[1;33m,\u001b[0m \u001b[0maxis\u001b[0m\u001b[1;33m=\u001b[0m\u001b[1;36m0\u001b[0m\u001b[1;33m)\u001b[0m\u001b[1;33m:\u001b[0m\u001b[1;33m\u001b[0m\u001b[0m\n",
      "\u001b[1;32m/home/seb/.virtualenvs/price-per-pill/lib/python2.7/site-packages/pandas/core/indexing.pyc\u001b[0m in \u001b[0;36m_getitem_axis\u001b[1;34m(self, key, axis)\u001b[0m\n\u001b[0;32m   1625\u001b[0m \u001b[1;33m\u001b[0m\u001b[0m\n\u001b[0;32m   1626\u001b[0m                 \u001b[1;31m# validate the location\u001b[0m\u001b[1;33m\u001b[0m\u001b[1;33m\u001b[0m\u001b[0m\n\u001b[1;32m-> 1627\u001b[1;33m                 \u001b[0mself\u001b[0m\u001b[1;33m.\u001b[0m\u001b[0m_is_valid_integer\u001b[0m\u001b[1;33m(\u001b[0m\u001b[0mkey\u001b[0m\u001b[1;33m,\u001b[0m \u001b[0maxis\u001b[0m\u001b[1;33m)\u001b[0m\u001b[1;33m\u001b[0m\u001b[0m\n\u001b[0m\u001b[0;32m   1628\u001b[0m \u001b[1;33m\u001b[0m\u001b[0m\n\u001b[0;32m   1629\u001b[0m             \u001b[1;32mreturn\u001b[0m \u001b[0mself\u001b[0m\u001b[1;33m.\u001b[0m\u001b[0m_get_loc\u001b[0m\u001b[1;33m(\u001b[0m\u001b[0mkey\u001b[0m\u001b[1;33m,\u001b[0m \u001b[0maxis\u001b[0m\u001b[1;33m=\u001b[0m\u001b[0maxis\u001b[0m\u001b[1;33m)\u001b[0m\u001b[1;33m\u001b[0m\u001b[0m\n",
      "\u001b[1;32m/home/seb/.virtualenvs/price-per-pill/lib/python2.7/site-packages/pandas/core/indexing.pyc\u001b[0m in \u001b[0;36m_is_valid_integer\u001b[1;34m(self, key, axis)\u001b[0m\n\u001b[0;32m   1539\u001b[0m         \u001b[0ml\u001b[0m \u001b[1;33m=\u001b[0m \u001b[0mlen\u001b[0m\u001b[1;33m(\u001b[0m\u001b[0max\u001b[0m\u001b[1;33m)\u001b[0m\u001b[1;33m\u001b[0m\u001b[0m\n\u001b[0;32m   1540\u001b[0m         \u001b[1;32mif\u001b[0m \u001b[0mkey\u001b[0m \u001b[1;33m>=\u001b[0m \u001b[0ml\u001b[0m \u001b[1;32mor\u001b[0m \u001b[0mkey\u001b[0m \u001b[1;33m<\u001b[0m \u001b[1;33m-\u001b[0m\u001b[0ml\u001b[0m\u001b[1;33m:\u001b[0m\u001b[1;33m\u001b[0m\u001b[0m\n\u001b[1;32m-> 1541\u001b[1;33m             \u001b[1;32mraise\u001b[0m \u001b[0mIndexError\u001b[0m\u001b[1;33m(\u001b[0m\u001b[1;34m\"single positional indexer is out-of-bounds\"\u001b[0m\u001b[1;33m)\u001b[0m\u001b[1;33m\u001b[0m\u001b[0m\n\u001b[0m\u001b[0;32m   1542\u001b[0m         \u001b[1;32mreturn\u001b[0m \u001b[0mTrue\u001b[0m\u001b[1;33m\u001b[0m\u001b[0m\n\u001b[0;32m   1543\u001b[0m \u001b[1;33m\u001b[0m\u001b[0m\n",
      "\u001b[1;31mIndexError\u001b[0m: single positional indexer is out-of-bounds"
     ]
    }
   ],
   "source": [
    "subjects = \"\"\"0901020D0AAAHAH\tCyanocobalamin_Tab 1mg M/R\n",
    "0905013G0AAAYAY\tMag Glycerophos_Tab Chble 97.2mg S/F\n",
    "0906050P0AAABAB\tVit E_Cap 200u\n",
    "0906040G0AABTBT\tColecal_Oral Dps\n",
    "0202010V0AAANAN\tMetolazone_Tab 2.5mg\n",
    "0906050P0AAAFAF\tVit E_Cap 400u\n",
    "0906040G0AABIBI\tColecal_Cap 400u\n",
    "0906040G0AACRCR\tColecal_Tab 20 000u\n",
    "0906040G0AABRBR\tColecal_Tab 400u\n",
    "0906024N0AAAGAG\tPyridox HCl_Tab 10mg\n",
    "0906040G0AABHBH\tColecal_Cap 1 000u\n",
    "0407010Q0AAAAAA\tCo-Proxamol_Tab 32.5mg/325mg\"\"\"\n",
    "\n",
    "for subject in subjects.split(\"\\n\"):\n",
    "    code, title = subject.split(\"\\t\", 1)\n",
    "    sql = \"\"\"  SELECT\n",
    "        *\n",
    "      FROM\n",
    "        ebmdatalab.hscic.prescribing_with_merged_codes_2016_09_01\n",
    "      WHERE\n",
    "        bnf_code = '%s'\"\"\" % code\n",
    "    df = pd.io.gbq.read_gbq(\n",
    "        sql, project_id=\"ebmdatalab\", verbose=False, dialect='standard')\n",
    "    df['ppq'] = df['net_cost'] / df['quantity']\n",
    "    df = df.sort_values('ppq')\n",
    "    cheapest = float(df[['quantity', 'net_cost', 'ppq']].head(1)['ppq'].iloc[0])\n",
    "    expensivest = float(df[['quantity', 'net_cost', 'ppq']].tail(1)['ppq'].iloc[0])\n",
    "    ratio = int(expensivest / cheapest)\n",
    "\n",
    "    sql = \"select MIN(VMPP.QTYVAL) from dmd_product inner join AMP on dmd_product.DMDID = AMP.APID  inner join VMPP on AMP.VPID = VMPP.VPID where BNF_CODE = '%s'\" % code\n",
    "    min_pack_size = int(pd.read_sql_query(sql, con).iloc[0])\n",
    "    dispensed_in_packs = len(df[df.quantity < min_pack_size])\n",
    "    sns.distplot(df['ppq'], rug=True)\n",
    "    sns.plt.title(\"%s\\nRatio: %s, min pack size %s, dispensed in less than pack size: %s\" % (title, ratio, min_pack_size, dispensed_in_packs))\n",
    "    sns.plt.show()"
   ]
  }
 ],
 "metadata": {
  "kernelspec": {
   "display_name": "Python 2",
   "language": "python",
   "name": "python2"
  },
  "language_info": {
   "codemirror_mode": {
    "name": "ipython",
    "version": 2
   },
   "file_extension": ".py",
   "mimetype": "text/x-python",
   "name": "python",
   "nbconvert_exporter": "python",
   "pygments_lexer": "ipython2",
   "version": "2.7.12"
  },
  "name": "Price per dose.ipynb"
 },
 "nbformat": 4,
 "nbformat_minor": 0
}
